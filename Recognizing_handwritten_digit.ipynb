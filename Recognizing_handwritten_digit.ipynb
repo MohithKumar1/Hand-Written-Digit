{
  "nbformat": 4,
  "nbformat_minor": 0,
  "metadata": {
    "colab": {
      "provenance": []
    },
    "kernelspec": {
      "name": "python3",
      "display_name": "Python 3"
    },
    "language_info": {
      "name": "python"
    }
  },
  "cells": [
    {
      "cell_type": "code",
      "execution_count": null,
      "metadata": {
        "id": "g4HtIffnCwHL"
      },
      "outputs": [],
      "source": [
        "import numpy as np\n",
        "import matplotlib.pyplot as plt\n",
        "import seaborn as sns\n",
        "import cv2\n",
        "from google.colab.patches import cv2_imshow\n",
        "from PIL import Image\n",
        "import tensorflow as tf\n",
        "tf.random.set_seed(3)\n",
        "from tensorflow import keras\n",
        "from keras.datasets import mnist\n",
        "from tensorflow.math import confusion_matrix"
      ]
    },
    {
      "cell_type": "markdown",
      "source": [
        "Loading th MNIST data from keras.datasets"
      ],
      "metadata": {
        "id": "F7Eq8aNqQIQd"
      }
    },
    {
      "cell_type": "code",
      "source": [
        "from os import X_OK\n",
        "(X_train, Y_train), (X_test, Y_test) = mnist.load_data()"
      ],
      "metadata": {
        "id": "wPYTD3S3KE7u",
        "colab": {
          "base_uri": "https://localhost:8080/"
        },
        "outputId": "4c4f9f2d-710b-4965-9f03-1f48e022624b"
      },
      "execution_count": null,
      "outputs": [
        {
          "output_type": "stream",
          "name": "stdout",
          "text": [
            "Downloading data from https://storage.googleapis.com/tensorflow/tf-keras-datasets/mnist.npz\n",
            "11490434/11490434 [==============================] - 0s 0us/step\n"
          ]
        }
      ]
    },
    {
      "cell_type": "code",
      "source": [
        "type(X_train)"
      ],
      "metadata": {
        "colab": {
          "base_uri": "https://localhost:8080/"
        },
        "id": "rldseDSrR9Mv",
        "outputId": "9756716d-fd3b-41e6-830c-3778aa119cf8"
      },
      "execution_count": null,
      "outputs": [
        {
          "output_type": "execute_result",
          "data": {
            "text/plain": [
              "numpy.ndarray"
            ]
          },
          "metadata": {},
          "execution_count": 3
        }
      ]
    },
    {
      "cell_type": "code",
      "source": [
        "#Shape of numpy arrays\n",
        "print(X_train.shape)\n",
        "print(Y_train.shape)\n",
        "print(X_test.shape)\n",
        "print(Y_test.shape)"
      ],
      "metadata": {
        "colab": {
          "base_uri": "https://localhost:8080/"
        },
        "id": "bdwkGgSrSAhr",
        "outputId": "26bf3bfd-685e-458e-df34-31e788401e4e"
      },
      "execution_count": null,
      "outputs": [
        {
          "output_type": "stream",
          "name": "stdout",
          "text": [
            "(60000, 28, 28)\n",
            "(60000,)\n",
            "(10000, 28, 28)\n",
            "(10000,)\n"
          ]
        }
      ]
    },
    {
      "cell_type": "code",
      "source": [
        "#printing 10th Image\n",
        "\n",
        "print(X_train[10])"
      ],
      "metadata": {
        "colab": {
          "base_uri": "https://localhost:8080/"
        },
        "id": "3wnaNnYdSNHb",
        "outputId": "eb4ff763-f827-4d87-9b49-c57fdf0d2316"
      },
      "execution_count": null,
      "outputs": [
        {
          "output_type": "stream",
          "name": "stdout",
          "text": [
            "[[  0   0   0   0   0   0   0   0   0   0   0   0   0   0   0   0   0   0\n",
            "    0   0   0   0   0   0   0   0   0   0]\n",
            " [  0   0   0   0   0   0   0   0   0   0   0   0   0   0   0   0   0   0\n",
            "    0   0   0   0   0   0   0   0   0   0]\n",
            " [  0   0   0   0   0   0   0   0   0   0   0   0   0   0   0   0   0   0\n",
            "    0   0   0   0   0   0   0   0   0   0]\n",
            " [  0   0   0   0   0   0   0   0   0   0   0   0   0   0   0   0   0   0\n",
            "    0   0   0   0   0   0   0   0   0   0]\n",
            " [  0   0   0   0   0   0   0   0   0   0   0  42 118 219 166 118 118   6\n",
            "    0   0   0   0   0   0   0   0   0   0]\n",
            " [  0   0   0   0   0   0   0   0   0   0 103 242 254 254 254 254 254  66\n",
            "    0   0   0   0   0   0   0   0   0   0]\n",
            " [  0   0   0   0   0   0   0   0   0   0  18 232 254 254 254 254 254 238\n",
            "   70   0   0   0   0   0   0   0   0   0]\n",
            " [  0   0   0   0   0   0   0   0   0   0   0 104 244 254 224 254 254 254\n",
            "  141   0   0   0   0   0   0   0   0   0]\n",
            " [  0   0   0   0   0   0   0   0   0   0   0   0 207 254 210 254 254 254\n",
            "   34   0   0   0   0   0   0   0   0   0]\n",
            " [  0   0   0   0   0   0   0   0   0   0   0   0  84 206 254 254 254 254\n",
            "   41   0   0   0   0   0   0   0   0   0]\n",
            " [  0   0   0   0   0   0   0   0   0   0   0   0   0  24 209 254 254 254\n",
            "  171   0   0   0   0   0   0   0   0   0]\n",
            " [  0   0   0   0   0   0   0   0   0   0   0   0  91 137 253 254 254 254\n",
            "  112   0   0   0   0   0   0   0   0   0]\n",
            " [  0   0   0   0   0   0   0   0   0   0  40 214 250 254 254 254 254 254\n",
            "   34   0   0   0   0   0   0   0   0   0]\n",
            " [  0   0   0   0   0   0   0   0   0   0  81 247 254 254 254 254 254 254\n",
            "  146   0   0   0   0   0   0   0   0   0]\n",
            " [  0   0   0   0   0   0   0   0   0   0   0 110 246 254 254 254 254 254\n",
            "  171   0   0   0   0   0   0   0   0   0]\n",
            " [  0   0   0   0   0   0   0   0   0   0   0   0  73  89  89  93 240 254\n",
            "  171   0   0   0   0   0   0   0   0   0]\n",
            " [  0   0   0   0   0   0   0   0   0   0   0   0   0   0   0   1 128 254\n",
            "  219  31   0   0   0   0   0   0   0   0]\n",
            " [  0   0   0   0   0   0   0   0   0   0   0   0   0   0   0   7 254 254\n",
            "  214  28   0   0   0   0   0   0   0   0]\n",
            " [  0   0   0   0   0   0   0   0   0   0   0   0   0   0   0 138 254 254\n",
            "  116   0   0   0   0   0   0   0   0   0]\n",
            " [  0   0   0   0   0   0  19 177  90   0   0   0   0   0  25 240 254 254\n",
            "   34   0   0   0   0   0   0   0   0   0]\n",
            " [  0   0   0   0   0   0 164 254 215  63  36   0  51  89 206 254 254 139\n",
            "    8   0   0   0   0   0   0   0   0   0]\n",
            " [  0   0   0   0   0   0  57 197 254 254 222 180 241 254 254 253 213  11\n",
            "    0   0   0   0   0   0   0   0   0   0]\n",
            " [  0   0   0   0   0   0   0 140 105 254 254 254 254 254 254 236   0   0\n",
            "    0   0   0   0   0   0   0   0   0   0]\n",
            " [  0   0   0   0   0   0   0   0   7 117 117 165 254 254 239  50   0   0\n",
            "    0   0   0   0   0   0   0   0   0   0]\n",
            " [  0   0   0   0   0   0   0   0   0   0   0   0   0   0   0   0   0   0\n",
            "    0   0   0   0   0   0   0   0   0   0]\n",
            " [  0   0   0   0   0   0   0   0   0   0   0   0   0   0   0   0   0   0\n",
            "    0   0   0   0   0   0   0   0   0   0]\n",
            " [  0   0   0   0   0   0   0   0   0   0   0   0   0   0   0   0   0   0\n",
            "    0   0   0   0   0   0   0   0   0   0]\n",
            " [  0   0   0   0   0   0   0   0   0   0   0   0   0   0   0   0   0   0\n",
            "    0   0   0   0   0   0   0   0   0   0]]\n"
          ]
        }
      ]
    },
    {
      "cell_type": "code",
      "source": [
        "print(X_train[10].shape)"
      ],
      "metadata": {
        "colab": {
          "base_uri": "https://localhost:8080/"
        },
        "id": "aDDwfBWMjyov",
        "outputId": "712aea52-5459-4b86-82d4-0d1de63be22a"
      },
      "execution_count": null,
      "outputs": [
        {
          "output_type": "stream",
          "name": "stdout",
          "text": [
            "(28, 28)\n"
          ]
        }
      ]
    },
    {
      "cell_type": "code",
      "source": [
        "#displaying the Image\n",
        "\n",
        "plt.imshow(X_train[10])\n",
        "plt.show()\n",
        "\n",
        "#print the corresponding label\n",
        "print(Y_train[10])"
      ],
      "metadata": {
        "colab": {
          "base_uri": "https://localhost:8080/",
          "height": 447
        },
        "id": "1NpCS_AVkEzZ",
        "outputId": "9a0173e9-36b7-4655-8e5b-015c2333122a"
      },
      "execution_count": null,
      "outputs": [
        {
          "output_type": "display_data",
          "data": {
            "text/plain": [
              "<Figure size 640x480 with 1 Axes>"
            ],
            "image/png": "[encoded data removed]"
          },
          "metadata": {}
        },
        {
          "output_type": "stream",
          "name": "stdout",
          "text": [
            "3\n"
          ]
        }
      ]
    },
    {
      "cell_type": "code",
      "source": [
        "#unique values in Y_train\n",
        "print(np.unique(Y_train))\n",
        "\n",
        "#unique values in Y_test\n",
        "print(np.unique(Y_test))"
      ],
      "metadata": {
        "colab": {
          "base_uri": "https://localhost:8080/"
        },
        "id": "lMMQLb-5lv1J",
        "outputId": "fb4c2cfa-fa84-4535-b70e-4829cc204d94"
      },
      "execution_count": null,
      "outputs": [
        {
          "output_type": "stream",
          "name": "stdout",
          "text": [
            "[0 1 2 3 4 5 6 7 8 9]\n",
            "[0 1 2 3 4 5 6 7 8 9]\n"
          ]
        }
      ]
    },
    {
      "cell_type": "code",
      "source": [
        "#Scaling the values\n",
        "\n",
        "X_train = X_train/255\n",
        "X_test = X_test/25"
      ],
      "metadata": {
        "id": "jG82hmEXmEIs"
      },
      "execution_count": null,
      "outputs": []
    },
    {
      "cell_type": "code",
      "source": [
        "#Setting layers of neural network\n",
        "model = keras.Sequential([\n",
        "    keras.layers.Flatten(input_shape=(28,28)),\n",
        "    keras.layers.Dense(50, activation='relu'),\n",
        "    keras.layers.Dense(50, activation='relu'),\n",
        "    keras.layers.Dense(10, activation='sigmoid')])"
      ],
      "metadata": {
        "id": "rHcixBqQnP0P"
      },
      "execution_count": null,
      "outputs": []
    },
    {
      "cell_type": "code",
      "source": [
        "#compiling the neural network\n",
        "\n",
        "model.compile(optimizer='adam',\n",
        "              loss='sparse_categorical_crossentropy',\n",
        "              metrics=['accuracy'])"
      ],
      "metadata": {
        "id": "JiWs2dOvsT2s"
      },
      "execution_count": null,
      "outputs": []
    },
    {
      "cell_type": "code",
      "source": [
        "#training the neural network\n",
        "\n",
        "model.fit(X_train, Y_train, epochs=10)"
      ],
      "metadata": {
        "colab": {
          "base_uri": "https://localhost:8080/"
        },
        "id": "kwnkUNSAn1JS",
        "outputId": "6f8d3378-a883-456f-83b2-a8ca9da233e0"
      },
      "execution_count": null,
      "outputs": [
        {
          "output_type": "stream",
          "name": "stdout",
          "text": [
            "Epoch 1/10\n",
            "1875/1875 [==============================] - 11s 5ms/step - loss: 0.2964 - accuracy: 0.9143\n",
            "Epoch 2/10\n",
            "1875/1875 [==============================] - 11s 6ms/step - loss: 0.1399 - accuracy: 0.9585\n",
            "Epoch 3/10\n",
            "1875/1875 [==============================] - 9s 5ms/step - loss: 0.1041 - accuracy: 0.9683\n",
            "Epoch 4/10\n",
            "1875/1875 [==============================] - 4s 2ms/step - loss: 0.0841 - accuracy: 0.9744\n",
            "Epoch 5/10\n",
            "1875/1875 [==============================] - 4s 2ms/step - loss: 0.0709 - accuracy: 0.9777\n",
            "Epoch 6/10\n",
            "1875/1875 [==============================] - 6s 3ms/step - loss: 0.0618 - accuracy: 0.9805\n",
            "Epoch 7/10\n",
            "1875/1875 [==============================] - 4s 2ms/step - loss: 0.0548 - accuracy: 0.9829\n",
            "Epoch 8/10\n",
            "1875/1875 [==============================] - 5s 2ms/step - loss: 0.0488 - accuracy: 0.9849\n",
            "Epoch 9/10\n",
            "1875/1875 [==============================] - 5s 3ms/step - loss: 0.0426 - accuracy: 0.9863\n",
            "Epoch 10/10\n",
            "1875/1875 [==============================] - 4s 2ms/step - loss: 0.0386 - accuracy: 0.9875\n"
          ]
        },
        {
          "output_type": "execute_result",
          "data": {
            "text/plain": [
              "<keras.src.callbacks.History at 0x7dbdb1ee2800>"
            ]
          },
          "metadata": {},
          "execution_count": 12
        }
      ]
    },
    {
      "cell_type": "markdown",
      "source": [
        "Training Data Accuracy = 98.9%"
      ],
      "metadata": {
        "id": "SMsnV72zpSSu"
      }
    },
    {
      "cell_type": "markdown",
      "source": [
        "**Accuracy on Test Data**"
      ],
      "metadata": {
        "id": "-IA5YsM1pff_"
      }
    },
    {
      "cell_type": "code",
      "source": [
        "loss , accuracy = model.evaluate(X_test, Y_test)\n",
        "print(accuracy)"
      ],
      "metadata": {
        "colab": {
          "base_uri": "https://localhost:8080/"
        },
        "id": "ibklKdaFoHaD",
        "outputId": "00e1c41a-0be7-493a-c635-3bebd73c9c1f"
      },
      "execution_count": null,
      "outputs": [
        {
          "output_type": "stream",
          "name": "stdout",
          "text": [
            "313/313 [==============================] - 1s 2ms/step - loss: 0.7946 - accuracy: 0.9718\n",
            "0.9718000292778015\n"
          ]
        }
      ]
    },
    {
      "cell_type": "markdown",
      "source": [
        "Test data accuracy = 97.1%"
      ],
      "metadata": {
        "id": "24_8pngXpxOg"
      }
    },
    {
      "cell_type": "code",
      "source": [
        "#First datapoint in X_test\n",
        "\n",
        "plt.imshow(X_test[0])\n",
        "plt.show()"
      ],
      "metadata": {
        "colab": {
          "base_uri": "https://localhost:8080/",
          "height": 430
        },
        "id": "fqJv4ftKpvGL",
        "outputId": "90aebcdf-364d-4878-9554-0fc03d9e233c"
      },
      "execution_count": null,
      "outputs": [
        {
          "output_type": "display_data",
          "data": {
            "text/plain": [
              "<Figure size 640x480 with 1 Axes>"
            ],
            "image/png": "[encoded data removed]"
          },
          "metadata": {}
        }
      ]
    },
    {
      "cell_type": "code",
      "source": [
        "print(Y_test[0])"
      ],
      "metadata": {
        "colab": {
          "base_uri": "https://localhost:8080/"
        },
        "id": "iBMLw-_nsBup",
        "outputId": "72c6652e-6b8e-43b3-8dd5-7733ec8323cf"
      },
      "execution_count": null,
      "outputs": [
        {
          "output_type": "stream",
          "name": "stdout",
          "text": [
            "7\n"
          ]
        }
      ]
    },
    {
      "cell_type": "code",
      "source": [
        "Y_pred = model.predict(X_test)"
      ],
      "metadata": {
        "colab": {
          "base_uri": "https://localhost:8080/"
        },
        "id": "zf-Z-A_0sJx4",
        "outputId": "17466474-3bc4-4e61-f286-1a311b2904b9"
      },
      "execution_count": null,
      "outputs": [
        {
          "output_type": "stream",
          "name": "stdout",
          "text": [
            "313/313 [==============================] - 1s 1ms/step\n"
          ]
        }
      ]
    },
    {
      "cell_type": "code",
      "source": [
        "print(Y_pred.shape)"
      ],
      "metadata": {
        "colab": {
          "base_uri": "https://localhost:8080/"
        },
        "id": "bPoq4DTntOvw",
        "outputId": "0e24d06a-1aed-4ef1-87c0-4348ffa0ba12"
      },
      "execution_count": null,
      "outputs": [
        {
          "output_type": "stream",
          "name": "stdout",
          "text": [
            "(10000, 10)\n"
          ]
        }
      ]
    },
    {
      "cell_type": "code",
      "source": [
        "print(Y_pred[0])"
      ],
      "metadata": {
        "colab": {
          "base_uri": "https://localhost:8080/"
        },
        "id": "1NUfCmd1tU8K",
        "outputId": "7c18e4c5-ec02-49e6-a8a7-8710871a5894"
      },
      "execution_count": null,
      "outputs": [
        {
          "output_type": "stream",
          "name": "stdout",
          "text": [
            "[0.00000000e+00 4.22474318e-14 4.60592616e-30 8.42480450e-14\n",
            " 0.00000000e+00 0.00000000e+00 0.00000000e+00 1.00000000e+00\n",
            " 1.22606595e-32 2.77317826e-20]\n"
          ]
        }
      ]
    },
    {
      "cell_type": "markdown",
      "source": [
        "model.predict() gives the prediction of probabililty of each class for that data point"
      ],
      "metadata": {
        "id": "fXpJIPfwtgYx"
      }
    },
    {
      "cell_type": "code",
      "source": [
        "#converting the prediction probabailities to the class label\n",
        "\n",
        "label_for_first_test_image = np.argmax(Y_pred[0])\n",
        "print(label_for_first_test_image)"
      ],
      "metadata": {
        "colab": {
          "base_uri": "https://localhost:8080/"
        },
        "id": "6Od7bhFWtaVV",
        "outputId": "63294f0b-eb1e-4ceb-c8c6-93302de26487"
      },
      "execution_count": null,
      "outputs": [
        {
          "output_type": "stream",
          "name": "stdout",
          "text": [
            "7\n"
          ]
        }
      ]
    },
    {
      "cell_type": "code",
      "source": [
        "#converting the prediction probabilities to class label for all test data points\n",
        "\n",
        "Y_pred_labels = [np.argmax(i) for i in Y_pred]\n",
        "print(Y_pred_labels)"
      ],
      "metadata": {
        "colab": {
          "base_uri": "https://localhost:8080/"
        },
        "id": "P5R4DuhDwPpU",
        "outputId": "52c89f2f-efa3-4fda-d321-27379f1d8a73"
      },
      "execution_count": null,
      "outputs": [
        {
          "output_type": "stream",
          "name": "stdout",
          "text": [
            "[7, 1, 1, 0, 4, 1, 4, 4, 5, 4, 0, 5, 9, 0, 1, 3, 4, 7, 3, 4, 7, 5, 6, 5, 4, 0, 7, 4, 0, 1, 3, 1, 3, 0, 7, 2, 2, 1, 1, 1, 1, 1, 4, 2, 3, 5, 1, 2, 4, 4, 5, 3, 5, 5, 5, 0, 4, 1, 4, 5, 3, 2, 9, 2, 7, 4, 6, 4, 3, 0, 7, 0, 2, 7, 1, 3, 3, 2, 4, 7, 7, 6, 2, 7, 8, 4, 7, 3, 4, 1, 3, 6, 4, 3, 1, 4, 1, 7, 5, 9, 5, 0, 5, 4, 5, 4, 2, 1, 9, 4, 8, 1, 3, 9, 2, 4, 4, 4, 9, 2, 3, 4, 7, 6, 7, 4, 0, 5, 8, 5, 6, 5, 5, 2, 8, 1, 0, 1, 6, 4, 6, 7, 2, 1, 7, 1, 3, 2, 0, 2, 9, 0, 5, 3, 1, 5, 6, 0, 2, 1, 4, 5, 5, 4, 6, 3, 4, 5, 1, 4, 4, 3, 1, 3, 2, 7, 1, 8, 1, 2, 1, 3, 5, 0, 2, 9, 1, 3, 0, 1, 1, 1, 0, 9, 0, 3, 1, 5, 4, 2, 2, 6, 1, 1, 1, 3, 9, 5, 2, 4, 4, 5, 3, 3, 9, 0, 3, 5, 5, 3, 7, 2, 2, 7, 1, 2, 8, 4, 1, 7, 3, 3, 5, 8, 7, 7, 2, 1, 4, 1, 3, 9, 8, 2, 2, 2, 0, 2, 4, 1, 4, 1, 4, 5, 7, 2, 1, 3, 2, 0, 2, 5, 7, 7, 4, 1, 8, 1, 2, 0, 3, 0, 1, 8, 3, 4, 1, 8, 2, 1, 1, 4, 2, 5, 9, 2, 5, 4, 1, 5, 4, 1, 9, 2, 0, 4, 0, 0, 1, 8, 4, 7, 1, 2, 4, 0, 1, 7, 4, 2, 3, 0, 0, 3, 1, 9, 5, 5, 2, 5, 1, 2, 9, 3, 0, 4, 1, 0, 7, 1, 1, 1, 1, 5, 3, 3, 4, 7, 8, 5, 3, 6, 1, 3, 5, 1, 0, 5, 1, 3, 1, 5, 5, 6, 1, 8, 5, 1, 7, 4, 4, 6, 2, 1, 5, 0, 6, 3, 5, 3, 7, 1, 0, 2, 8, 5, 4, 1, 1, 4, 0, 3, 3, 7, 5, 1, 5, 2, 1, 4, 2, 2, 6, 1, 9, 5, 2, 3, 4, 2, 0, 8, 3, 8, 2, 4, 5, 0, 3, 1, 7, 7, 3, 7, 9, 7, 1, 4, 2, 1, 4, 2, 4, 2, 0, 4, 9, 1, 4, 8, 1, 2, 4, 5, 9, 7, 5, 3, 7, 5, 0, 0, 3, 0, 2, 0, 5, 4, 8, 3, 3, 3, 1, 3, 9, 1, 1, 5, 3, 0, 5, 6, 5, 6, 3, 3, 8, 1, 7, 3, 2, 7, 4, 1, 8, 4, 1, 1, 5, 9, 1, 4, 7, 5, 4, 0, 8, 9, 7, 1, 0, 5, 2, 3, 7, 0, 9, 4, 0, 5, 3, 9, 3, 1, 1, 3, 1, 3, 5, 5, 7, 1, 1, 1, 6, 3, 2, 6, 5, 1, 8, 9, 3, 1, 3, 0, 3, 8, 2, 1, 4, 3, 4, 0, 6, 4, 1, 1, 8, 2, 5, 4, 8, 8, 4, 0, 0, 2, 3, 2, 1, 1, 0, 5, 7, 4, 4, 2, 9, 4, 9, 0, 9, 8, 0, 4, 6, 0, 6, 3, 3, 4, 8, 3, 3, 4, 3, 3, 3, 7, 8, 0, 1, 2, 1, 7, 0, 6, 5, 4, 1, 8, 0, 7, 6, 3, 8, 0, 4, 9, 6, 8, 6, 5, 5, 7, 3, 6, 0, 2, 4, 0, 2, 2, 3, 1, 9, 2, 5, 1, 0, 8, 4, 4, 1, 4, 7, 9, 3, 2, 9, 8, 2, 1, 9, 1, 7, 3, 5, 9, 1, 3, 0, 1, 0, 5, 1, 1, 3, 7, 5, 7, 1, 1, 5, 2, 0, 3, 7, 1, 4, 0, 9, 1, 2, 5, 7, 2, 4, 3, 4, 9, 1, 4, 3, 1, 7, 3, 4, 2, 4, 9, 1, 3, 1, 2, 3, 3, 5, 7, 2, 4, 3, 8, 5, 1, 1, 4, 4, 3, 1, 0, 7, 3, 0, 7, 9, 4, 4, 2, 5, 3, 4, 0, 8, 2, 1, 6, 2, 4, 5, 0, 4, 0, 1, 1, 7, 3, 2, 5, 7, 1, 4, 9, 3, 1, 4, 4, 2, 3, 4, 2, 0, 6, 1, 1, 7, 3, 4, 1, 0, 3, 4, 3, 1, 1, 2, 4, 4, 7, 4, 8, 4, 0, 2, 4, 5, 1, 1, 5, 4, 7, 1, 9, 4, 1, 4, 1, 5, 5, 3, 8, 3, 1, 4, 5, 6, 8, 9, 4, 1, 5, 3, 2, 0, 1, 2, 5, 1, 1, 8, 3, 4, 4, 0, 8, 8, 3, 3, 1, 2, 3, 5, 9, 6, 3, 1, 0, 1, 3, 5, 0, 7, 2, 1, 7, 1, 4, 1, 4, 1, 1, 3, 7, 1, 1, 1, 1, 4, 3, 1, 2, 7, 4, 2, 0, 7, 3, 1, 1, 1, 0, 7, 3, 0, 3, 5, 3, 2, 1, 5, 6, 4, 2, 5, 3, 5, 1, 2, 5, 5, 0, 8, 2, 4, 2, 8, 6, 8, 8, 2, 4, 7, 3, 0, 1, 6, 3, 2, 1, 3, 1, 2, 7, 3, 0, 0, 5, 3, 8, 1, 1, 4, 4, 0, 2, 7, 1, 4, 3, 4, 7, 3, 9, 8, 3, 4, 7, 1, 1, 1, 2, 2, 3, 2, 3, 2, 3, 9, 1, 7, 4, 0, 3, 5, 5, 5, 4, 3, 0, 5, 7, 6, 5, 3, 1, 2, 9, 1, 1, 7, 4, 0, 4, 7, 5, 1, 3, 0, 4, 7, 8, 7, 1, 1, 0, 9, 1, 1, 4, 5, 4, 0, 6, 1, 2, 3, 1, 5, 1, 1, 0, 2, 8, 1, 1, 5, 7, 1, 6, 2, 3, 7, 0, 1, 2, 1, 0, 2, 7, 7, 0, 2, 3, 1, 3, 7, 8, 1, 0, 4, 1, 7, 9, 5, 1, 2, 2, 5, 1, 3, 2, 5, 4, 4, 1, 5, 1, 3, 8, 1, 2, 5, 8, 0, 4, 1, 1, 1, 2, 1, 5, 3, 4, 2, 1, 5, 0, 9, 2, 2, 4, 8, 2, 1, 4, 2, 4, 9, 4, 4, 0, 3, 9, 1, 1, 3, 3, 8, 3, 5, 7, 3, 3, 2, 1, 1, 4, 0, 6, 4, 9, 3, 1, 0, 6, 9, 5, 4, 3, 4, 2, 3, 2, 0, 3, 4, 1, 3, 6, 7, 5, 5, 9, 7, 4, 6, 3, 5, 3, 7, 4, 0, 5, 3, 5, 4, 2, 2, 3, 8, 0, 7, 6, 8, 8, 7, 3, 3, 1, 4, 5, 2, 7, 3, 5, 1, 1, 2, 1, 4, 7, 4, 3, 5, 1, 5, 4, 0, 2, 3, 5, 7, 5, 0, 2, 8, 4, 4, 4, 4, 6, 6, 4, 4, 9, 3, 4, 5, 5, 5, 1, 3, 7, 1, 7, 0, 1, 0, 1, 1, 1, 5, 9, 2, 8, 7, 2, 0, 1, 5, 0, 4, 1, 7, 0, 5, 0, 8, 6, 8, 1, 5, 0, 3, 3, 2, 2, 3, 5, 1, 1, 5, 1, 1, 3, 7, 1, 0, 2, 0, 5, 4, 0, 2, 8, 1, 2, 3, 2, 4, 0, 4, 5, 8, 5, 1, 1, 1, 3, 1, 7, 1, 5, 7, 2, 0, 0, 8, 8, 6, 1, 5, 4, 1, 4, 2, 1, 5, 2, 1, 0, 2, 4, 4, 3, 4, 8, 5, 2, 4, 0, 4, 0, 4, 4, 7, 9, 3, 4, 1, 5, 9, 2, 3, 5, 8, 3, 0, 5, 3, 3, 6, 6, 0, 1, 5, 0, 3, 7, 4, 4, 1, 2, 9, 1, 4, 4, 9, 4, 3, 4, 8, 4, 4, 3, 1, 3, 1, 0, 8, 7, 9, 4, 8, 6, 2, 9, 4, 1, 4, 3, 6, 0, 5, 1, 1, 2, 1, 3, 5, 2, 4, 9, 6, 2, 1, 7, 0, 2, 1, 1, 0, 3, 3, 7, 2, 0, 1, 7, 1, 7, 6, 2, 2, 1, 1, 3, 1, 2, 5, 2, 1, 6, 1, 1, 5, 5, 5, 0, 9, 1, 4, 3, 3, 9, 7, 4, 6, 8, 0, 4, 1, 3, 8, 2, 7, 1, 8, 0, 5, 7, 1, 1, 0, 5, 5, 2, 0, 2, 2, 0, 1, 4, 7, 5, 0, 9, 9, 4, 6, 5, 4, 9, 1, 4, 3, 4, 9, 4, 1, 2, 1, 3, 1, 4, 5, 4, 0, 1, 4, 2, 3, 8, 4, 0, 1, 5, 1, 9, 6, 2, 9, 4, 0, 7, 4, 0, 6, 1, 3, 4, 2, 3, 9, 4, 5, 5, 0, 3, 8, 5, 3, 5, 8, 6, 3, 7, 5, 3, 3, 9, 5, 1, 1, 2, 9, 0, 0, 3, 3, 4, 9, 5, 9, 2, 7, 2, 7, 8, 1, 9, 3, 3, 0, 2, 2, 7, 7, 4, 5, 4, 9, 3, 2, 1, 4, 0, 1, 3, 2, 5, 7, 5, 5, 5, 0, 1, 1, 4, 3, 3, 9, 0, 0, 0, 5, 5, 2, 3, 3, 3, 4, 3, 7, 9, 2, 4, 1, 2, 5, 2, 4, 3, 7, 1, 8, 4, 0, 9, 2, 0, 8, 7, 7, 0, 1, 2, 8, 0, 0, 4, 8, 8, 2, 4, 7, 6, 2, 5, 4, 7, 1, 8, 8, 2, 3, 5, 3, 0, 0, 1, 1, 6, 4, 7, 4, 7, 5, 4, 3, 3, 6, 1, 2, 3, 7, 3, 3, 2, 0, 3, 3, 8, 4, 3, 6, 2, 5, 0, 2, 0, 4, 0, 1, 4, 5, 2, 3, 5, 1, 4, 6, 1, 4, 5, 4, 5, 0, 5, 4, 5, 2, 1, 1, 9, 1, 9, 7, 4, 0, 8, 4, 5, 1, 4, 1, 1, 1, 1, 7, 3, 6, 2, 3, 4, 9, 1, 9, 3, 3, 3, 5, 1, 1, 2, 5, 5, 0, 4, 4, 7, 2, 3, 5, 6, 3, 8, 5, 2, 3, 1, 0, 5, 2, 7, 2, 9, 6, 7, 0, 4, 8, 7, 1, 7, 4, 1, 0, 3, 1, 1, 0, 0, 9, 1, 1, 8, 7, 8, 4, 7, 2, 0, 4, 5, 0, 3, 1, 1, 3, 3, 9, 6, 7, 4, 1, 1, 3, 0, 5, 1, 3, 4, 6, 4, 3, 5, 0, 2, 1, 4, 5, 1, 1, 3, 8, 0, 8, 8, 1, 5, 0, 3, 0, 3, 1, 4, 0, 2, 7, 2, 7, 1, 5, 0, 1, 0, 0, 2, 1, 9, 8, 7, 7, 1, 4, 4, 4, 2, 7, 1, 3, 9, 0, 2, 0, 3, 3, 7, 2, 9, 2, 3, 3, 2, 7, 0, 0, 7, 5, 2, 9, 2, 7, 4, 4, 1, 6, 5, 1, 9, 5, 8, 2, 4, 0, 2, 7, 1, 1, 5, 3, 3, 1, 1, 1, 3, 1, 2, 3, 0, 1, 0, 1, 3, 3, 5, 7, 4, 7, 7, 6, 4, 6, 2, 3, 2, 6, 8, 5, 1, 4, 2, 4, 4, 5, 1, 1, 9, 0, 1, 4, 3, 5, 7, 1, 8, 2, 5, 0, 9, 8, 3, 1, 1, 5, 7, 5, 3, 1, 2, 0, 3, 9, 2, 3, 1, 0, 8, 1, 4, 5, 1, 7, 6, 9, 0, 6, 1, 5, 5, 8, 3, 3, 2, 5, 5, 0, 7, 4, 6, 1, 3, 4, 7, 3, 1, 3, 4, 2, 5, 1, 7, 1, 7, 2, 5, 0, 1, 0, 2, 8, 5, 0, 1, 8, 2, 5, 7, 7, 4, 3, 3, 5, 2, 4, 2, 4, 0, 2, 2, 3, 4, 9, 2, 7, 5, 8, 6, 3, 5, 0, 3, 6, 7, 3, 6, 4, 4, 4, 6, 5, 2, 0, 4, 1, 0, 1, 1, 6, 2, 9, 1, 1, 0, 5, 3, 9, 5, 6, 5, 6, 5, 3, 4, 6, 4, 3, 9, 1, 3, 4, 1, 9, 1, 2, 1, 1, 9, 3, 5, 4, 0, 7, 3, 6, 1, 1, 5, 5, 3, 3, 0, 1, 3, 7, 5, 3, 6, 0, 1, 0, 4, 2, 3, 4, 5, 7, 4, 8, 1, 8, 4, 7, 2, 8, 6, 2, 7, 0, 0, 6, 1, 5, 8, 6, 0, 4, 3, 1, 1, 3, 0, 4, 3, 3, 5, 3, 6, 3, 0, 1, 3, 4, 2, 3, 0, 9, 9, 1, 3, 1, 8, 4, 2, 0, 6, 0, 8, 3, 2, 8, 5, 7, 3, 0, 6, 2, 4, 2, 3, 1, 3, 3, 7, 5, 4, 0, 8, 4, 8, 1, 7, 4, 5, 2, 0, 3, 9, 4, 2, 1, 1, 5, 1, 1, 1, 2, 3, 6, 1, 3, 7, 0, 2, 8, 9, 4, 3, 6, 3, 8, 3, 1, 0, 6, 1, 2, 5, 6, 4, 5, 8, 1, 4, 1, 7, 2, 4, 6, 1, 8, 4, 3, 1, 2, 8, 0, 2, 3, 9, 1, 4, 2, 0, 2, 7, 0, 1, 0, 2, 3, 2, 5, 2, 7, 1, 1, 5, 2, 4, 4, 8, 0, 4, 4, 5, 8, 0, 6, 8, 9, 8, 3, 5, 4, 0, 4, 2, 3, 1, 2, 4, 5, 8, 0, 9, 1, 3, 3, 6, 4, 8, 7, 1, 0, 5, 7, 1, 7, 5, 2, 1, 7, 1, 8, 5, 2, 4, 4, 4, 7, 2, 2, 3, 4, 4, 1, 9, 2, 1, 1, 9, 4, 4, 1, 5, 7, 2, 7, 2, 8, 1, 9, 7, 1, 1, 7, 3, 3, 3, 5, 1, 3, 2, 4, 1, 3, 8, 7, 5, 9, 0, 0, 0, 1, 2, 8, 2, 3, 7, 1, 3, 0, 3, 4, 4, 3, 5, 9, 2, 3, 9, 7, 1, 1, 7, 0, 0, 4, 6, 5, 9, 1, 1, 0, 2, 0, 0, 4, 4, 3, 0, 7, 1, 4, 2, 4, 5, 4, 4, 9, 1, 7, 4, 5, 3, 3, 8, 2, 1, 6, 1, 1, 1, 1, 1, 1, 1, 6, 4, 8, 4, 3, 7, 1, 6, 4, 8, 0, 4, 7, 4, 2, 4, 0, 1, 0, 1, 0, 7, 2, 6, 0, 0, 4, 1, 5, 3, 1, 2, 3, 8, 4, 2, 1, 2, 1, 7, 5, 4, 4, 0, 4, 2, 9, 7, 3, 1, 0, 1, 1, 5, 4, 2, 1, 0, 1, 3, 9, 1, 4, 2, 3, 3, 4, 3, 5, 1, 3, 3, 1, 1, 1, 0, 4, 1, 7, 1, 4, 3, 7, 7, 1, 5, 1, 4, 9, 0, 3, 8, 5, 3, 5, 0, 4, 4, 6, 2, 5, 0, 0, 7, 4, 6, 6, 8, 6, 4, 8, 2, 9, 1, 7, 1, 5, 9, 4, 0, 7, 1, 7, 2, 1, 0, 6, 5, 4, 4, 7, 2, 0, 9, 9, 2, 2, 9, 4, 4, 1, 3, 3, 2, 1, 7, 0, 7, 6, 4, 1, 3, 3, 3, 4, 5, 9, 1, 5, 1, 3, 7, 3, 7, 1, 3, 3, 0, 4, 1, 4, 0, 1, 1, 3, 5, 0, 4, 4, 7, 5, 1, 5, 8, 7, 5, 5, 2, 4, 3, 3, 3, 8, 1, 5, 3, 5, 0, 3, 3, 3, 8, 5, 7, 1, 7, 3, 7, 0, 5, 9, 0, 2, 5, 5, 3, 1, 1, 2, 8, 6, 5, 7, 3, 5, 9, 3, 3, 7, 0, 1, 7, 0, 0, 3, 7, 2, 3, 2, 1, 8, 5, 1, 9, 3, 7, 5, 2, 8, 4, 2, 5, 1, 4, 2, 4, 3, 7, 3, 0, 5, 2, 1, 3, 3, 1, 1, 0, 2, 3, 4, 0, 3, 9, 3, 2, 8, 9, 0, 3, 8, 0, 7, 6, 5, 4, 1, 3, 0, 0, 5, 5, 1, 5, 1, 1, 0, 0, 4, 4, 0, 1, 2, 3, 2, 1, 7, 8, 5, 1, 5, 7, 6, 9, 1, 4, 1, 5, 4, 2, 4, 3, 5, 4, 3, 4, 5, 0, 1, 5, 3, 3, 4, 1, 9, 7, 9, 5, 5, 2, 7, 4, 6, 0, 1, 1, 1, 0, 4, 4, 7, 6, 3, 0, 0, 4, 3, 0, 4, 1, 7, 5, 1, 3, 8, 1, 2, 3, 4, 2, 7, 3, 6, 0, 1, 7, 7, 6, 5, 8, 7, 2, 4, 5, 8, 1, 1, 0, 0, 7, 5, 0, 2, 1, 0, 7, 3, 1, 3, 6, 4, 0, 6, 0, 0, 0, 6, 3, 5, 7, 1, 4, 5, 5, 5, 5, 3, 0, 0, 0, 2, 4, 5, 8, 2, 3, 1, 2, 1, 1, 5, 6, 9, 5, 0, 1, 6, 5, 5, 3, 8, 6, 2, 1, 4, 5, 4, 1, 7, 8, 3, 0, 4, 3, 5, 1, 1, 0, 4, 4, 1, 0, 1, 1, 0, 1, 6, 1, 4, 5, 5, 5, 3, 7, 8, 4, 1, 7, 1, 5, 3, 1, 0, 7, 7, 4, 5, 0, 2, 8, 3, 7, 2, 3, 7, 5, 8, 9, 4, 8, 5, 1, 8, 4, 2, 3, 4, 1, 1, 2, 9, 3, 4, 0, 2, 4, 5, 7, 1, 4, 1, 2, 4, 9, 3, 1, 4, 7, 7, 4, 2, 1, 9, 2, 0, 8, 0, 2, 4, 0, 4, 4, 1, 3, 2, 8, 3, 4, 3, 5, 2, 8, 1, 5, 3, 3, 7, 4, 2, 5, 6, 2, 5, 9, 3, 5, 9, 1, 1, 9, 5, 3, 0, 5, 9, 8, 4, 0, 4, 7, 1, 9, 0, 1, 0, 3, 1, 6, 5, 8, 1, 5, 3, 3, 0, 3, 3, 5, 7, 2, 8, 2, 0, 4, 9, 1, 9, 1, 2, 5, 5, 2, 0, 9, 1, 2, 5, 1, 3, 7, 6, 2, 1, 9, 1, 3, 5, 5, 0, 3, 8, 3, 3, 7, 1, 5, 0, 1, 4, 0, 5, 9, 8, 1, 1, 1, 9, 5, 9, 7, 3, 7, 8, 0, 1, 3, 0, 4, 5, 1, 0, 2, 5, 5, 4, 4, 1, 1, 5, 4, 2, 2, 0, 4, 9, 2, 6, 2, 7, 1, 7, 9, 4, 0, 0, 3, 8, 1, 0, 3, 1, 5, 0, 5, 7, 3, 9, 2, 6, 1, 7, 2, 5, 6, 8, 8, 4, 5, 8, 4, 1, 2, 8, 1, 3, 9, 4, 0, 3, 7, 3, 1, 3, 2, 7, 3, 1, 0, 6, 1, 0, 0, 1, 5, 3, 5, 4, 1, 7, 1, 5, 7, 3, 1, 3, 2, 1, 7, 3, 2, 3, 7, 8, 5, 4, 9, 1, 9, 6, 5, 2, 4, 7, 4, 1, 7, 1, 5, 1, 2, 0, 3, 1, 4, 2, 6, 7, 4, 3, 3, 0, 5, 2, 1, 6, 5, 3, 9, 1, 9, 3, 1, 1, 8, 4, 4, 5, 5, 2, 6, 9, 7, 1, 8, 6, 9, 7, 3, 3, 4, 0, 3, 4, 1, 4, 1, 2, 3, 0, 0, 1, 6, 6, 5, 7, 0, 8, 6, 4, 7, 9, 0, 7, 3, 4, 1, 1, 8, 8, 5, 9, 2, 3, 1, 8, 8, 3, 1, 7, 6, 0, 1, 2, 7, 1, 0, 2, 3, 5, 0, 5, 2, 2, 2, 8, 7, 0, 1, 1, 1, 1, 1, 4, 4, 4, 4, 1, 1, 5, 1, 9, 9, 0, 0, 1, 8, 8, 4, 3, 4, 2, 0, 6, 1, 0, 1, 1, 2, 2, 1, 2, 3, 7, 8, 1, 0, 0, 1, 1, 6, 6, 0, 1, 5, 2, 5, 1, 7, 4, 8, 1, 1, 4, 3, 7, 3, 9, 9, 0, 5, 3, 4, 7, 1, 2, 3, 2, 0, 4, 3, 1, 1, 4, 7, 6, 0, 0, 6, 7, 7, 0, 5, 5, 8, 1, 0, 7, 0, 2, 8, 1, 5, 0, 3, 8, 0, 3, 1, 2, 3, 2, 5, 4, 3, 5, 5, 5, 2, 4, 1, 8, 4, 5, 2, 6, 5, 0, 0, 8, 2, 6, 1, 1, 1, 1, 2, 7, 4, 0, 0, 7, 2, 6, 3, 2, 5, 4, 2, 0, 1, 4, 0, 3, 7, 2, 1, 1, 4, 1, 1, 1, 3, 5, 6, 0, 9, 1, 9, 4, 8, 3, 6, 5, 5, 7, 6, 1, 4, 5, 7, 7, 0, 4, 2, 9, 4, 3, 3, 3, 2, 4, 4, 0, 0, 3, 2, 5, 0, 1, 1, 1, 1, 0, 7, 5, 2, 9, 5, 5, 4, 1, 4, 3, 1, 1, 2, 1, 4, 1, 0, 3, 7, 5, 3, 4, 0, 0, 4, 3, 3, 0, 1, 1, 1, 1, 1, 3, 1, 0, 9, 9, 7, 5, 4, 1, 1, 5, 9, 5, 2, 5, 1, 9, 3, 1, 3, 3, 4, 4, 0, 1, 0, 2, 9, 3, 9, 3, 3, 2, 1, 4, 9, 8, 3, 2, 4, 0, 4, 7, 3, 4, 9, 8, 1, 3, 1, 3, 4, 2, 5, 1, 2, 0, 2, 1, 3, 3, 4, 5, 8, 4, 3, 1, 4, 6, 2, 9, 3, 3, 4, 0, 3, 1, 4, 4, 7, 0, 5, 9, 6, 0, 4, 2, 4, 4, 6, 1, 2, 3, 2, 5, 4, 5, 9, 6, 3, 5, 5, 0, 5, 6, 1, 1, 3, 6, 5, 1, 5, 4, 5, 5, 4, 7, 7, 0, 2, 2, 2, 1, 3, 1, 0, 1, 8, 0, 7, 1, 4, 8, 7, 5, 5, 4, 1, 3, 5, 4, 9, 1, 1, 1, 1, 6, 6, 0, 1, 1, 4, 0, 7, 4, 2, 4, 0, 6, 4, 1, 5, 7, 3, 3, 4, 5, 5, 0, 1, 3, 2, 2, 3, 3, 5, 1, 8, 0, 6, 5, 7, 1, 1, 0, 1, 3, 7, 8, 5, 0, 7, 1, 1, 0, 1, 1, 4, 5, 1, 7, 4, 1, 3, 0, 2, 5, 3, 4, 0, 7, 7, 2, 1, 3, 6, 4, 1, 3, 2, 4, 0, 5, 1, 0, 2, 2, 6, 4, 4, 3, 9, 6, 1, 6, 5, 7, 9, 1, 0, 1, 5, 0, 1, 4, 3, 5, 2, 8, 2, 0, 8, 8, 9, 0, 4, 5, 7, 6, 3, 3, 3, 4, 7, 7, 1, 4, 0, 0, 6, 1, 6, 4, 2, 7, 2, 8, 1, 0, 0, 7, 5, 3, 3, 2, 1, 3, 7, 5, 1, 3, 1, 5, 0, 5, 1, 0, 7, 5, 9, 5, 5, 4, 9, 7, 1, 5, 5, 0, 1, 3, 3, 0, 3, 4, 5, 1, 1, 0, 2, 5, 1, 2, 1, 1, 2, 2, 4, 1, 2, 1, 2, 5, 1, 0, 9, 4, 4, 8, 3, 2, 5, 4, 2, 6, 6, 2, 0, 0, 0, 5, 8, 3, 1, 5, 3, 3, 3, 5, 1, 8, 2, 0, 4, 9, 4, 6, 2, 3, 3, 5, 6, 4, 8, 0, 7, 2, 3, 2, 6, 7, 3, 7, 1, 9, 4, 9, 1, 2, 8, 6, 0, 7, 0, 4, 1, 1, 2, 3, 5, 9, 9, 1, 4, 5, 9, 1, 5, 0, 4, 1, 0, 8, 4, 0, 3, 9, 8, 7, 4, 2, 5, 1, 9, 8, 7, 2, 0, 9, 9, 6, 8, 4, 9, 5, 9, 8, 5, 1, 0, 3, 3, 5, 1, 1, 6, 3, 0, 1, 8, 1, 5, 5, 2, 3, 0, 2, 2, 6, 4, 3, 5, 5, 1, 7, 2, 1, 6, 4, 1, 3, 9, 5, 5, 1, 6, 1, 2, 8, 6, 2, 1, 4, 0, 0, 2, 0, 3, 3, 2, 2, 3, 6, 2, 7, 8, 3, 3, 8, 5, 4, 5, 2, 0, 5, 5, 3, 2, 5, 3, 9, 9, 3, 2, 9, 4, 5, 1, 1, 3, 1, 3, 5, 6, 0, 9, 0, 1, 1, 4, 1, 8, 8, 0, 1, 6, 9, 7, 5, 3, 4, 7, 4, 9, 9, 4, 3, 5, 3, 1, 1, 7, 6, 9, 1, 8, 4, 1, 1, 4, 7, 4, 2, 6, 5, 1, 5, 0, 4, 1, 3, 1, 1, 4, 9, 3, 1, 0, 0, 1, 1, 5, 2, 1, 9, 8, 4, 0, 3, 5, 4, 9, 0, 7, 1, 6, 3, 1, 3, 1, 5, 1, 3, 5, 4, 7, 0, 5, 7, 8, 1, 3, 2, 1, 0, 4, 3, 7, 1, 3, 5, 1, 3, 0, 0, 5, 0, 7, 3, 1, 8, 3, 4, 7, 0, 0, 8, 4, 5, 9, 3, 3, 2, 2, 1, 4, 7, 1, 1, 1, 3, 2, 5, 3, 1, 9, 8, 1, 2, 2, 6, 2, 5, 1, 3, 8, 9, 2, 8, 6, 3, 1, 3, 9, 7, 5, 6, 2, 9, 1, 2, 8, 1, 4, 2, 8, 7, 9, 1, 8, 0, 1, 2, 2, 0, 7, 5, 1, 4, 0, 2, 0, 9, 3, 6, 2, 3, 0, 3, 8, 0, 2, 1, 1, 1, 1, 4, 2, 4, 7, 1, 5, 1, 1, 1, 1, 4, 3, 9, 1, 0, 1, 0, 2, 1, 1, 4, 4, 4, 1, 3, 4, 9, 7, 2, 1, 5, 4, 1, 1, 2, 1, 0, 5, 9, 0, 1, 9, 7, 3, 1, 4, 5, 5, 3, 4, 2, 4, 7, 7, 5, 0, 1, 4, 5, 2, 1, 5, 3, 9, 5, 4, 3, 5, 4, 0, 3, 5, 3, 9, 2, 1, 4, 1, 1, 8, 1, 6, 5, 3, 0, 9, 4, 9, 1, 5, 1, 3, 1, 1, 4, 1, 4, 2, 3, 3, 7, 1, 1, 2, 3, 3, 0, 2, 4, 0, 0, 9, 9, 5, 0, 0, 3, 2, 2, 4, 1, 4, 5, 1, 2, 1, 9, 7, 3, 0, 5, 1, 1, 5, 3, 5, 1, 4, 5, 3, 5, 1, 7, 5, 9, 3, 1, 9, 0, 9, 2, 5, 4, 7, 2, 0, 1, 0, 5, 1, 4, 9, 3, 3, 6, 1, 5, 1, 5, 2, 2, 0, 2, 2, 1, 6, 0, 1, 2, 0, 3, 0, 1, 3, 5, 3, 7, 3, 3, 0, 2, 9, 5, 0, 3, 1, 5, 4, 0, 8, 2, 4, 5, 2, 8, 4, 5, 4, 5, 3, 4, 9, 1, 1, 1, 1, 4, 8, 8, 7, 0, 1, 6, 6, 4, 3, 3, 8, 1, 2, 1, 0, 0, 4, 3, 9, 0, 1, 7, 8, 6, 5, 4, 0, 6, 9, 2, 4, 5, 4, 3, 3, 9, 4, 9, 2, 1, 3, 3, 1, 0, 1, 3, 3, 4, 2, 4, 0, 3, 4, 1, 2, 4, 2, 6, 0, 0, 0, 1, 2, 2, 7, 7, 8, 1, 0, 4, 7, 2, 3, 0, 5, 5, 4, 6, 7, 4, 3, 0, 2, 5, 0, 7, 4, 1, 0, 3, 7, 4, 4, 2, 4, 6, 7, 8, 3, 5, 9, 4, 1, 3, 7, 3, 0, 3, 7, 4, 6, 1, 3, 4, 1, 2, 9, 0, 1, 3, 3, 2, 9, 5, 5, 4, 0, 1, 1, 8, 4, 5, 2, 7, 8, 1, 1, 3, 0, 3, 5, 7, 0, 3, 1, 8, 3, 5, 3, 1, 7, 3, 3, 0, 2, 4, 3, 2, 4, 5, 1, 4, 7, 3, 9, 0, 4, 9, 6, 4, 2, 9, 7, 2, 1, 1, 6, 1, 4, 7, 5, 4, 2, 2, 2, 1, 4, 4, 5, 1, 5, 1, 3, 1, 5, 9, 9, 3, 4, 1, 1, 4, 6, 4, 7, 2, 1, 5, 1, 4, 6, 3, 4, 1, 1, 0, 3, 1, 6, 3, 4, 9, 0, 1, 3, 0, 2, 9, 0, 5, 5, 5, 3, 6, 7, 7, 2, 8, 4, 0, 5, 3, 0, 1, 4, 1, 3, 2, 5, 3, 9, 3, 0, 0, 1, 4, 5, 1, 3, 7, 6, 0, 1, 4, 1, 2, 1, 2, 3, 3, 3, 7, 4, 4, 9, 3, 4, 1, 3, 1, 7, 1, 3, 0, 9, 1, 0, 1, 3, 7, 9, 6, 4, 9, 9, 2, 1, 6, 1, 3, 5, 2, 1, 9, 7, 6, 4, 5, 2, 4, 6, 9, 4, 5, 2, 6, 1, 4, 8, 1, 2, 1, 5, 5, 2, 3, 7, 2, 1, 0, 1, 0, 4, 5, 2, 3, 2, 2, 3, 5, 1, 7, 2, 1, 1, 1, 4, 2, 5, 4, 0, 3, 0, 1, 8, 8, 1, 7, 7, 8, 5, 8, 4, 9, 8, 1, 1, 8, 0, 3, 1, 1, 9, 3, 5, 1, 6, 5, 7, 4, 9, 3, 5, 4, 7, 1, 1, 0, 8, 1, 6, 0, 7, 3, 4, 7, 3, 9, 6, 0, 5, 5, 4, 8, 7, 7, 9, 3, 2, 5, 9, 7, 2, 3, 4, 0, 2, 1, 0, 3, 5, 5, 7, 1, 4, 4, 7, 1, 8, 3, 0, 8, 7, 8, 4, 0, 8, 1, 4, 5, 8, 5, 6, 6, 2, 0, 9, 3, 1, 5, 2, 4, 2, 4, 7, 5, 8, 4, 1, 1, 8, 8, 6, 3, 1, 3, 7, 4, 0, 1, 1, 4, 3, 0, 8, 1, 7, 4, 5, 7, 1, 1, 1, 1, 3, 9, 6, 2, 1, 2, 6, 8, 7, 5, 5, 4, 3, 1, 0, 5, 1, 2, 0, 5, 4, 3, 5, 4, 6, 5, 2, 1, 9, 3, 1, 3, 2, 4, 3, 6, 1, 4, 4, 4, 7, 5, 5, 4, 1, 4, 9, 2, 2, 8, 0, 1, 3, 6, 1, 3, 4, 1, 1, 1, 5, 5, 0, 7, 0, 7, 1, 3, 2, 5, 2, 1, 9, 4, 9, 8, 1, 2, 1, 5, 1, 2, 7, 4, 0, 0, 0, 5, 1, 2, 7, 1, 1, 9, 9, 9, 2, 7, 3, 1, 3, 0, 9, 4, 1, 8, 5, 6, 1, 8, 3, 1, 2, 6, 4, 7, 4, 2, 7, 0, 1, 3, 1, 3, 2, 4, 0, 3, 4, 9, 8, 4, 1, 0, 6, 0, 9, 6, 8, 6, 1, 1, 4, 5, 4, 2, 3, 5, 5, 9, 4, 1, 1, 4, 4, 3, 4, 6, 0, 4, 0, 6, 0, 1, 1, 3, 4, 7, 2, 9, 0, 1, 1, 3, 4, 1, 8, 7, 0, 1, 2, 3, 0, 5, 5, 1, 8, 9, 8, 3, 1, 3, 2, 5, 2, 1, 0, 9, 7, 1, 9, 3, 2, 4, 3, 3, 0, 9, 1, 4, 5, 4, 5, 2, 0, 6, 2, 1, 1, 1, 1, 7, 2, 4, 7, 5, 2, 9, 4, 5, 5, 4, 2, 9, 7, 0, 0, 7, 5, 1, 1, 7, 6, 6, 5, 8, 1, 2, 1, 7, 4, 0, 1, 0, 2, 1, 2, 4, 5, 1, 0, 5, 9, 6, 9, 5, 0, 5, 0, 8, 2, 4, 6, 3, 0, 1, 1, 3, 4, 3, 6, 7, 0, 1, 1, 3, 4, 5, 4, 7, 8, 9, 0, 1, 1, 3, 4, 3, 4, 7, 6, 5, 4, 4, 7, 4, 7, 7, 3, 7, 5, 2, 3, 1, 5, 8, 1, 7, 4, 2, 1, 5, 0, 5, 3, 8, 4, 4, 0, 4, 1, 2, 7, 5, 5, 1, 5, 9, 1, 3, 4, 3, 3, 1, 1, 4, 9, 4, 6, 5, 5, 3, 3, 2, 1, 4, 5, 6, 5, 1, 9, 7, 4, 8, 3, 7, 4, 7, 0, 7, 0, 0, 3, 2, 9, 3, 0, 2, 0, 1, 0, 1, 0, 4, 0, 1, 0, 4, 2, 9, 6, 1, 4, 1, 2, 7, 7, 0, 1, 1, 3, 4, 5, 6, 7, 8, 9, 0, 1, 2, 3, 4, 5, 6, 7, 8, 9, 0, 1, 2, 3, 4, 5, 5, 7, 5, 7, 8, 0, 5, 1, 1, 0, 8, 0, 2, 3, 7, 7, 4, 7, 1, 9, 1, 7, 1, 4, 0, 0, 4, 1, 7, 3, 7, 1, 3, 3, 3, 6, 5, 9, 7, 0, 3, 0, 2, 3, 2, 6, 0, 8, 9, 4, 3, 5, 4, 2, 1, 5, 9, 0, 6, 0, 3, 6, 3, 3, 8, 1, 4, 7, 5, 7, 2, 2, 0, 0, 1, 7, 7, 9, 5, 9, 8, 4, 6, 8, 8, 2, 3, 6, 1, 1, 9, 8, 9, 5, 2, 6, 2, 4, 8, 0, 5, 3, 0, 1, 5, 6, 7, 3, 9, 0, 1, 1, 3, 4, 5, 6, 7, 8, 9, 0, 1, 2, 3, 4, 5, 6, 7, 8, 7, 7, 4, 2, 0, 7, 0, 1, 5, 8, 3, 0, 1, 7, 8, 4, 4, 6, 1, 0, 4, 5, 3, 7, 4, 2, 0, 5, 0, 1, 3, 1, 7, 1, 6, 0, 1, 1, 5, 0, 4, 7, 7, 6, 3, 5, 0, 7, 3, 5, 4, 1, 4, 1, 8, 3, 5, 6, 7, 0, 6, 7, 1, 2, 5, 2, 1, 9, 3, 3, 1, 8, 7, 6, 7, 1, 4, 6, 2, 9, 3, 0, 1, 1, 3, 4, 3, 1, 7, 0, 1, 1, 3, 4, 3, 0, 1, 1, 8, 7, 1, 4, 0, 9, 5, 0, 8, 0, 7, 7, 1, 1, 1, 7, 3, 6, 7, 1, 3, 3, 1, 2, 9, 8, 8, 7, 1, 7, 1, 1, 0, 3, 4, 1, 5, 4, 7, 4, 2, 7, 4, 9, 1, 0, 6, 2, 5, 3, 5, 3, 3, 9, 7, 1, 8, 5, 4, 5, 4, 3, 0, 3, 2, 7, 1, 2, 1, 6, 0, 0, 1, 2, 3, 4, 5, 4, 1, 8, 7, 0, 1, 1, 3, 4, 5, 6, 7, 8, 9, 0, 1, 2, 3, 1, 5, 4, 7, 8, 9, 3, 5, 3, 2, 9, 3, 1, 1, 1, 3, 5, 2, 3, 2, 1, 3, 9, 7, 1, 5, 2, 6, 9, 1, 4, 5, 7, 6, 1, 0, 0, 7, 2, 8, 7, 5, 0, 6, 1, 3, 7, 4, 6, 1, 1, 5, 0, 7, 7, 4, 0, 3, 8, 2, 1, 8, 1, 8, 1, 5, 9, 0, 0, 0, 3, 7, 1, 6, 1, 1, 1, 6, 0, 4, 5, 4, 1, 3, 8, 4, 3, 9, 9, 5, 9, 3, 7, 8, 5, 4, 4, 7, 1, 1, 1, 0, 9, 1, 0, 1, 2, 3, 4, 5, 6, 7, 8, 7, 0, 1, 1, 2, 5, 6, 0, 1, 1, 3, 4, 5, 1, 2, 1, 1, 3, 2, 2, 0, 7, 5, 9, 9, 6, 0, 7, 4, 1, 3, 2, 1, 2, 3, 8, 3, 1, 4, 5, 4, 5, 2, 3, 4, 5, 1, 5, 0, 5, 3, 7, 4, 1, 9, 2, 1, 9, 6, 7, 9, 0, 4, 6, 1, 7, 3, 8, 7, 1, 7, 5, 3, 8, 3, 7, 0, 5, 7, 1, 6, 1, 0, 9, 3, 3, 4, 4, 0, 6, 2, 3, 4, 2, 3, 4, 6, 0, 0, 2, 0, 1, 4, 3, 6, 7, 3, 9, 0, 1, 2, 3, 4, 5, 5, 4, 8, 0, 1, 1, 3, 4, 3, 6, 4, 8, 9, 2, 4, 1, 3, 7, 3, 1, 8, 0, 7, 3, 9, 9, 0, 9, 1, 1, 3, 2, 2, 6, 3, 2, 1, 2, 3, 1, 6, 3, 1, 0, 4, 1, 0, 3, 3, 1, 9, 1, 1, 9, 2, 0, 4, 6, 1, 7, 3, 8, 7, 2, 9, 6, 3, 8, 3, 3, 4, 1, 2, 1, 0, 9, 6, 1, 3, 4, 1, 3, 4, 4, 2, 0, 0, 1, 0, 1, 2, 3, 4, 3, 4, 3, 3, 9, 0, 1, 2, 3, 4, 3, 6, 7, 3, 4, 0, 1, 1, 9, 4, 3, 2, 3, 8, 7, 3, 1, 3, 0, 2, 8, 9, 4, 1, 4, 3, 8, 0, 4, 3, 4, 1, 4, 0, 3, 3, 2, 1, 3, 4, 0, 2, 1, 0, 1, 7, 0, 4, 3, 9, 3, 1, 3, 4, 3, 2, 0, 9, 1, 2, 3, 1, 3, 1, 0, 1, 4, 1, 0, 0, 2, 8, 4, 2, 4, 9, 3, 3, 4, 2, 1, 3, 1, 3, 6, 9, 6, 3, 0, 2, 4, 2, 4, 0, 1, 3, 3, 1, 5, 3, 9, 1, 8, 7, 2, 1, 3, 3, 4, 3, 1, 1, 0, 1, 3, 0, 1, 1, 3, 4, 5, 6, 7, 8, 3, 0, 1, 1, 3, 4, 5, 4, 7, 6, 3, 0, 1, 1, 3, 4, 5, 6, 7, 8, 3, 1, 2, 6, 5, 3, 0, 7, 0, 4, 1, 4, 3, 6, 3, 1, 3, 1, 1, 1, 2, 9, 5, 0, 1, 3, 0, 1, 7, 5, 7, 6, 1, 9, 1, 9, 0, 6, 0, 6, 0, 1, 0, 6, 1, 5, 8, 4, 3, 0, 1, 5, 4, 4, 8, 5, 7, 5, 7, 8, 3, 4, 8, 8, 5, 1, 9, 7, 1, 3, 6, 1, 0, 7, 3, 3, 6, 3, 4, 7, 7, 9, 0, 3, 4, 4, 3, 2, 5, 1, 0, 1, 1, 3, 4, 5, 4, 7, 2, 9, 0, 1, 2, 3, 4, 5, 6, 7, 8, 9, 0, 1, 2, 3, 4, 3, 6, 7, 8, 4, 0, 8, 3, 9, 5, 3, 2, 4, 8, 4, 9, 1, 7, 1, 1, 3, 5, 9, 6, 9, 1, 1, 1, 1, 9, 5, 4, 2, 1, 2, 0, 7, 7, 5, 8, 2, 9, 8, 9, 0, 4, 4, 7, 1, 3, 4, 3, 6, 0, 3, 6, 8, 7, 0, 4, 2, 7, 4, 7, 5, 4, 3, 4, 2, 8, 1, 3, 1, 2, 0, 2, 5, 6, 4, 3, 0, 0, 0, 3, 3, 5, 7, 0, 6, 4, 8, 8, 6, 3, 4, 6, 9, 9, 8, 2, 7, 7, 1, 0, 1, 2, 3, 4, 5, 6, 7, 2, 9, 0, 1, 2, 3, 4, 5, 6, 7, 2, 0, 1, 2, 3, 4, 5, 6, 3, 8, 2, 1, 7, 2, 5, 0, 2, 0, 1, 7, 2, 2, 3, 6, 0, 2, 7, 6, 6, 1, 2, 8, 2, 7, 7, 4, 7, 7, 3, 7, 4, 5, 4, 2, 3, 8, 4, 1, 1, 9, 1, 4, 3, 7, 2, 3, 0, 2, 3, 5, 6, 4, 3, 5, 2, 5, 7, 9, 2, 4, 1, 0, 6, 0, 9, 6, 8, 2, 3, 6, 1, 1, 9, 8, 9, 2, 3, 3, 5, 3, 4, 2, 1, 9, 2, 9, 2, 0, 6, 0, 4, 0, 0, 1, 2, 3, 4, 7, 2, 9, 0, 1, 2, 3, 7, 2, 4, 0, 1, 2, 3, 4, 7, 2, 9, 7, 3, 0, 3, 1, 2, 7, 5, 4, 0, 2, 5, 8, 3, 2, 8, 1, 2, 0, 7, 1, 0, 4, 0, 5, 8, 0, 6, 2, 3, 1, 5, 1, 2, 5, 9, 0, 0, 7, 5, 5, 8, 3, 5, 7, 2, 5, 2, 5, 3, 1, 7, 3, 0, 1, 9, 9, 5, 0, 3, 9, 2, 2, 1, 4, 2, 5, 2, 9, 2, 5, 8, 9, 5, 0, 1, 2, 4, 5, 6, 0, 1, 2, 3, 4, 5, 2, 3, 1, 2, 3, 4, 3, 1, 0, 4, 5, 4, 6, 3, 4, 4, 2, 7, 1, 0, 2, 4, 3, 3, 2, 3, 3, 9, 2, 0, 9, 3, 3, 7, 1, 3, 2, 3, 1, 2, 8, 4, 0, 1, 4, 0, 2, 4, 7, 3, 0, 7, 0, 2, 4, 3, 2, 8, 2, 9, 5, 1, 5, 1, 0, 8, 1, 1, 7, 2, 9, 7, 9, 5, 3, 2, 2, 6, 0, 2, 1, 7, 5, 0, 1, 1, 3, 4, 1, 9, 1, 3, 6, 2, 9, 0, 1, 2, 3, 4, 5, 5, 7, 5, 9, 0, 1, 2, 3, 4, 7, 5, 9, 5, 1, 7, 8, 9, 9, 5, 7, 5, 4, 1, 2, 7, 3, 3, 7, 5, 5, 5, 1, 9, 0, 1, 7, 5, 3, 2, 1, 7, 1, 2, 9, 1, 7, 5, 8, 4, 1, 4, 3, 5, 9, 5, 1, 4, 4, 7, 2, 4, 4, 0, 1, 2, 3, 4, 3, 6, 7, 5, 8, 0, 1, 2, 3, 4, 5, 5, 8, 0, 1, 2, 3, 4, 7, 5, 1, 3, 3, 1, 7, 7, 2, 1, 0, 5, 3, 4, 4, 3, 0, 7, 4, 1, 2, 3, 4, 4, 1, 5, 0, 1, 0, 0, 1, 7, 7, 1, 1, 4, 0, 0, 2, 3, 5, 8, 0, 3, 2, 4, 0, 6, 9, 2, 6, 5, 8, 6, 9, 0, 4, 0, 5, 6, 8, 2, 0, 4, 5, 1, 3, 7, 6, 4, 3, 0, 2, 1, 0, 1, 2, 3, 4, 3, 1, 7, 2, 4, 0, 1, 1, 3, 4, 5, 6, 7, 3, 4, 0, 1, 1, 3, 4, 5, 6, 7, 2, 4, 1, 1, 7, 2, 5, 0, 8, 0, 1, 7, 2, 8, 3, 0, 6, 0, 1, 7, 6, 4, 1, 1, 8, 2, 7, 7, 4, 7, 7, 3, 7, 4, 3, 4, 3, 3, 8, 4, 3, 4, 1, 1, 4, 7, 0, 3, 7, 3, 3, 0, 1, 5, 3, 6, 3, 1, 3, 1, 5, 9, 7, 2, 4, 1, 0, 6, 0, 7, 6, 2, 2, 5, 6, 1, 1, 7, 2, 9, 2, 3, 5, 5, 4, 4, 1, 1, 9, 4, 9, 1, 3, 1, 1, 0, 6, 0, 4, 0, 4, 0, 1, 2, 3, 4, 5, 6, 7, 2, 9, 0, 1, 2, 3, 4, 3, 6, 7, 8, 7, 0, 1, 2, 3, 4, 5, 6, 2, 8, 4, 3, 8, 0, 7, 1, 0, 7, 3, 3, 4, 7, 0, 1, 0, 0, 2, 3, 4, 3, 1, 5, 0, 0, 9, 5, 3, 1, 7, 3, 7, 4, 4, 2, 1, 3, 7, 2, 6, 4, 9, 1, 9, 4, 1, 2, 2, 3, 8, 1, 3, 2, 9, 4, 3, 8, 2, 2, 1, 2, 8, 6, 3, 1, 6, 7, 2, 1, 3, 7, 3, 8, 7, 3, 7, 0, 7, 1, 8, 8, 5, 0, 6, 6, 3, 7, 6, 7, 7, 4, 8, 4, 1, 0, 6, 6, 0, 1, 2, 3, 4, 5, 6, 7, 8, 7, 0, 1, 1, 3, 4, 5, 6, 7, 5, 7, 0, 1, 1, 3, 4, 5, 6, 7, 2, 7, 7, 4, 0, 4, 0, 1, 7, 9, 5, 1, 4, 1, 8, 7, 4, 3, 7, 8, 2, 4, 4, 3, 3, 6, 1, 7, 5, 8, 6, 7, 0, 6, 8, 2, 6, 3, 9, 3, 1, 8, 4, 1, 7, 4, 8, 8, 9, 0, 3, 3, 9, 0, 5, 1, 9, 4, 1, 0, 3, 7, 5, 8, 7, 7, 8, 2, 9, 7, 1, 2, 6, 4, 2, 5, 2, 3, 4, 6, 5, 0, 0, 2, 8, 1, 6, 1, 0, 4, 3, 1, 6, 1, 7, 0, 1, 1, 5, 5, 7, 2, 7, 1, 2, 3, 4, 5, 5, 7, 0, 1, 2, 3, 4, 3, 5, 7, 3, 7, 8, 4, 0, 0, 2, 2, 4, 3, 2, 5, 5, 3, 2, 6, 1, 3, 3, 1, 4, 7, 3, 0, 3, 1, 7, 0, 1, 7, 1, 2, 7, 0, 1, 3, 2, 2, 9, 2, 7, 5, 5, 5, 9, 7, 2, 2, 9, 1, 3, 2, 3, 4, 3, 1, 9, 0, 7, 3, 5, 2, 7, 0, 1, 0, 5, 3, 2, 7, 7, 0, 1, 2, 3, 4, 5, 6, 7, 2, 9, 0, 1, 2, 3, 4, 5, 6, 7, 2, 4, 0, 1, 2, 3, 4, 5, 4, 7, 8, 9, 1, 7, 4, 2, 1, 3, 6, 5, 7, 2, 2, 2, 3, 3, 8, 4, 5, 4, 0, 9, 1, 7, 2, 9, 1, 3, 1, 3, 2, 2, 3, 0, 6, 4, 3, 7, 6, 9, 0, 4, 8, 1, 4, 0, 6, 1, 2, 4, 9, 2, 2, 3, 5, 5, 1, 0, 7, 7, 9, 6, 1, 9, 4, 7, 0, 1, 3, 4, 0, 0, 8, 3, 8, 3, 1, 3, 7, 4, 9, 3, 3, 7, 0, 9, 8, 9, 0, 2, 6, 3, 4, 7, 4, 7, 3, 4, 1, 3, 5, 3, 1, 2, 3, 4, 5, 6, 1, 2, 3, 4, 6, 0, 1, 2, 4, 5, 6, 7, 8, 1, 7, 2, 4, 1, 4, 1, 4, 9, 6, 8, 4, 3, 3, 2, 8, 8, 3, 3, 5, 6, 7, 0, 4, 1, 6, 5, 2, 0, 1, 3, 0, 5, 5, 0, 1, 5, 8, 4, 2, 3, 5, 7, 6, 9, 1, 9, 0, 5, 7, 1, 2, 3, 9, 2, 4, 5, 5, 2, 7, 5, 3, 1, 5, 2, 2, 3, 0, 2, 9, 4, 9, 7, 0, 2, 7, 4, 9, 9, 1, 3, 7, 8, 3, 8, 5, 2, 0, 0, 1, 1, 3, 4, 3, 5, 7, 8, 9, 0, 1, 1, 3, 4, 5, 6, 1, 2, 7, 0, 1, 1, 3, 4, 5, 6, 7, 8, 7, 0, 0, 1, 2, 6, 5, 5, 3, 7, 8, 6, 6, 6, 6, 4, 3, 8, 8, 3, 0, 1, 7, 0, 3, 4, 1, 7, 1, 1, 7, 0, 1, 3, 8, 1, 9, 2, 7, 1, 1, 6, 5, 5, 4, 9, 1, 1, 5, 7, 6, 8, 1, 9, 4, 3, 1, 9, 0, 7, 3, 6, 8, 7, 0, 1, 0, 5, 8, 1, 7, 7, 0, 1, 2, 3, 4, 5, 6, 7, 8, 9, 0, 1, 2, 3, 4, 5, 2, 9, 0, 1, 1, 3, 4, 5, 6, 7, 8, 9, 2, 1, 2, 1, 3, 9, 9, 2, 5, 3, 2, 0, 7, 7, 5, 7, 9, 9, 0, 7, 0, 3, 4, 1, 5, 8, 1, 4, 8, 4, 1, 8, 6, 5, 4, 6, 0, 5, 5, 3, 3, 5, 7, 2, 5, 9, 6, 9, 2, 6, 2, 1, 2, 0, 8, 3, 3, 3, 0, 8, 3, 4, 9, 5, 0, 9, 7, 0, 0, 4, 6, 0, 9, 1, 5, 2, 7, 5, 5, 3, 5, 2, 1, 5, 3, 8, 6, 1, 0, 2, 1, 0, 0, 1, 2, 3, 4, 5, 4, 3, 2, 4, 0, 1, 2, 3, 4, 5, 4, 7, 2, 9, 0, 1, 2, 3, 4, 5, 6, 7, 2, 7, 7, 6, 4, 7, 6, 2, 3, 4, 8, 7, 2, 4, 7, 2, 3, 2, 2, 5, 4, 3, 3, 6, 3, 0, 2, 0, 1, 1, 2, 7, 4, 2, 2, 1, 0, 6, 5, 2, 7, 7, 5, 2, 7, 2, 7, 1, 2, 3, 2, 1, 9, 5, 5, 0, 1, 1, 7, 2, 2, 6, 0, 4, 5, 0, 2, 1, 2, 5, 7, 5, 4, 4, 2, 0, 3, 1, 4, 4, 0, 4, 9, 0, 1, 2, 3, 5, 6, 7, 8, 0, 1, 2, 2, 5, 5, 7, 8, 9, 0, 1, 2, 2, 5, 6, 7, 2, 9, 9, 7, 0, 9, 0, 1, 5, 2, 8, 0, 8, 3, 2, 7, 8, 4, 4, 1, 0, 4, 9, 4, 2, 0, 5, 0, 1, 6, 9, 3, 2, 9, 1, 6, 0, 1, 1, 5, 7, 7, 5, 2, 6, 0, 7, 2, 0, 1, 7, 0, 6, 7, 1, 2, 5, 5, 1, 1, 2, 5, 7, 4, 5, 7, 1, 4, 2, 9, 3, 0, 1, 2, 3, 4, 5, 6, 7, 8, 9, 0, 1, 0, 2, 4, 5, 6, 7, 8, 7, 0, 1, 2, 3, 4, 5, 6, 7, 8, 7, 8, 9, 5, 7, 0, 3, 1, 5, 8, 4, 1, 5, 6, 4, 1, 2, 8, 1, 3, 1, 3, 4, 7, 2, 0, 5, 0, 1, 7, 1, 3, 2, 3, 5, 5, 7, 8, 0, 9, 7, 3, 1, 1, 9, 0, 2, 2, 3, 4, 8, 6, 3, 8, 0, 4, 4, 2, 1, 0, 1, 0, 4, 2, 3, 8, 9, 0, 7, 2, 3, 4, 3, 5, 2, 8, 5, 4, 6, 6, 4, 2, 7, 1, 8, 2, 1, 5, 2, 4, 7, 9, 4, 0, 0, 0, 1, 1, 3, 4, 5, 6, 3, 8, 9, 0, 1, 1, 3, 1, 3, 6, 7, 8, 9, 0, 1, 1, 3, 4, 5, 6, 4, 0, 1, 3, 1, 5, 1, 1, 4, 9, 2, 1, 6, 2, 0, 1, 1, 4, 1, 6, 5, 8, 7, 4, 1, 9, 7, 0, 2, 1, 0, 3, 5, 0, 1, 2, 3, 4, 5, 6, 7, 5, 9, 0, 1, 2, 3, 4, 5, 5, 7, 5, 9, 0, 1, 2, 3, 4, 5, 4, 7, 8, 7, 8, 5, 5, 9, 7, 0, 2, 3, 4, 3, 5, 5, 1, 3, 2, 3, 0, 1, 2, 1, 3, 2, 5, 5, 3, 0, 7, 2, 7, 4, 5, 4, 0, 5, 9, 0, 5, 9, 3, 3, 1, 7, 4, 7, 5, 5, 4, 0, 0, 5, 5, 2, 0, 5, 3, 7, 7, 4, 4, 3, 9, 2, 8, 9, 6, 0, 9, 5, 3, 8, 8, 7, 1, 4, 0, 4, 2, 5, 2, 3, 7, 0, 1, 9, 1, 5, 1, 7, 4, 5, 5, 2, 1, 5, 8, 5, 0, 1, 2, 3, 4, 7, 2, 9, 0, 1, 2, 3, 4, 4, 7, 8, 9, 0, 1, 2, 3, 4, 7, 5, 9, 1, 4, 5, 3, 3, 0, 9, 5, 4, 3, 0, 4, 4, 5, 2, 0, 7, 7, 1, 4, 9, 1, 3, 6, 2, 3, 5, 2, 3, 5, 9, 5, 5, 8, 2, 1, 2, 1, 1, 0, 3, 4, 1, 4, 4, 7, 4, 2, 2, 4, 2, 9, 2, 7, 9, 2, 1, 0, 6, 5, 3, 4, 5, 5, 7, 6, 9, 0, 5, 3, 0, 2, 1, 6, 0, 0, 1, 2, 3, 4, 5, 4, 7, 0, 1, 2, 3, 4, 7, 8, 7, 0, 1, 2, 3, 4, 7, 2, 5, 1, 6, 4, 3, 9, 9, 0, 9, 7, 1, 4, 4, 3, 4, 2, 0, 9, 5, 4, 5, 7, 0, 0, 1, 7, 4, 3, 2, 4, 1, 3, 7, 6, 4, 7, 7, 7, 9, 5, 4, 3, 6, 2, 6, 3, 5, 5, 0, 5, 4, 7, 1, 3, 1, 7, 9, 4, 2, 0, 4, 1, 7, 3, 3, 9, 1, 4, 4, 3, 9, 8, 2, 1, 5, 4, 4, 1, 5, 5, 6, 5, 0, 1, 2, 3, 4, 5, 6, 1, 0, 9, 0, 1, 2, 3, 4, 5, 5, 7, 8, 9, 0, 1, 2, 3, 4, 3, 4, 7, 8, 7, 6, 9, 7, 0, 2, 3, 4, 2, 2, 5, 1, 2, 0, 1, 2, 1, 3, 2, 0, 7, 1, 4, 4, 0, 3, 7, 9, 2, 9, 5, 2, 1, 7, 4, 7, 0, 0, 1, 5, 5, 3, 2, 4, 2, 5, 7, 8, 7, 1, 4, 0, 4, 8, 5, 1, 3, 4, 0, 1, 4, 1, 5, 1, 2, 6, 1, 2, 1, 1, 8, 0, 1, 1, 3, 4, 3, 5, 7, 8, 9, 0, 1, 1, 3, 4, 5, 5, 7, 8, 0, 1, 2, 3, 5, 6, 7, 8, 1, 0, 4, 5, 4, 6, 3, 4, 4, 2, 8, 1, 0, 4, 4, 9, 7, 2, 9, 2, 0, 9, 3, 3, 9, 1, 5, 1, 3, 1, 5, 1, 3, 7, 8, 4, 0, 2, 4, 0, 2, 4, 7, 8, 0, 7, 0, 6, 9, 3, 2, 4, 2, 6, 0, 5, 7, 5, 1, 0, 8, 1, 4, 7, 2, 9, 7, 9, 5, 6, 5, 2, 6, 2, 8, 1, 7, 5, 5, 7, 3, 5, 0, 1, 1, 3, 8, 4, 9, 4, 5, 1, 8, 6, 8, 9, 0, 1, 2, 3, 4, 5, 6, 7, 5, 7, 0, 1, 2, 3, 4, 5, 6, 7, 8, 9, 0, 1, 2, 3, 4, 5, 6, 7, 5, 9, 3, 5, 3, 1, 9, 3, 2, 1, 4, 5, 5, 1, 3, 1, 1, 3, 9, 7, 1, 1, 2, 5, 9, 1, 8, 8, 7, 8, 1, 0, 0, 4, 7, 7, 8, 7, 5, 0, 6, 1, 5, 7, 4, 6, 1, 2, 5, 0, 7, 4, 9, 0, 3, 4, 4, 8, 4, 1, 8, 6, 5, 9, 0, 0, 0, 3, 7, 1, 6, 4, 6, 0, 4, 5, 4, 1, 3, 2, 4, 3, 8, 8, 5, 9, 3, 7, 8, 3, 6, 4, 7, 6, 2, 1, 0, 9, 4, 0, 1, 2, 3, 4, 5, 4, 7, 8, 9, 0, 1, 1, 3, 4, 5, 6, 7, 8, 9, 0, 1, 2, 3, 4, 5, 6, 7, 8, 9, 6, 4, 2, 6, 4, 7, 5, 5, 4, 7, 2, 9, 3, 9, 3, 8, 2, 0, 7, 5, 4, 0, 1, 0, 6, 5, 3, 5, 3, 8, 0, 0, 3, 4, 1, 5, 3, 0, 8, 3, 0, 6, 2, 7, 8, 1, 7, 1, 3, 8, 5, 4, 2, 0, 4, 7, 6, 7, 4, 1, 6, 2, 6, 7, 1, 9, 8, 0, 4, 9, 4, 7, 9, 6, 2, 3, 7, 1, 9, 1, 2, 5, 3, 7, 8, 0, 1, 2, 3, 4, 7, 8, 9, 0, 1, 2, 3, 4, 7, 8, 9, 0, 1, 7, 2, 9, 8, 9, 1, 6, 1, 3, 5, 4, 3, 2, 5, 4, 3, 4, 5, 9, 2, 0, 3, 9, 4, 9, 7, 3, 3, 7, 4, 4, 9, 3, 5, 3, 2, 5, 6, 2, 3, 1, 3, 2, 7, 3, 1, 4, 0, 1, 1, 3, 5, 0, 2, 3, 1, 5, 1, 4, 5, 0, 0, 4, 9, 1, 6, 5, 7, 0, 7, 6, 1, 1, 0, 1, 1, 3, 4, 2, 2, 3, 4, 5, 6, 2, 0, 1, 2, 2, 8, 6, 2, 4, 2, 1, 9, 3, 9, 6, 1, 7, 1, 4, 4, 5, 2, 0, 0, 1, 5, 6, 8, 1, 2, 2, 2, 4, 1, 1, 5, 1, 0, 5, 7, 8, 3, 9, 6, 3, 0, 1, 1, 3, 4, 5, 6, 7, 8, 9, 0, 1, 1, 2, 4, 5, 5, 7, 5, 9, 0, 1, 1, 3, 4, 5, 6, 7, 8, 9, 1, 6, 8, 9, 4, 0, 1, 2, 4, 4, 3, 7, 4, 4, 4, 0, 1, 8, 7, 5, 3, 1, 1, 7, 5, 3, 8, 5, 1, 5, 1, 1, 6, 2, 1, 1, 8, 2, 4, 1, 6, 1, 5, 5, 0, 1, 3, 0, 6, 8, 1, 7, 4, 1, 9, 1, 6, 7, 6, 5, 8, 7, 4, 9, 1, 1, 3, 3, 0, 5, 5, 3, 0, 1, 7, 9, 7, 0, 2, 7, 9, 1, 7, 8, 0, 1, 5, 2, 6, 0, 1, 1, 3, 4, 5, 6, 7, 2, 9, 0, 1, 1, 3, 4, 5, 5, 7, 5, 9, 0, 1, 1, 3, 4, 7, 8, 4, 6, 1, 2, 6, 4, 7, 5, 7, 1, 4, 3, 9, 3, 0, 0, 1, 0, 4, 2, 6, 3, 5, 3, 0, 3, 4, 1, 5, 3, 0, 5, 3, 0, 6, 1, 7, 2, 0, 7, 1, 6, 7, 1, 9, 5, 4, 4, 9, 7, 5, 7, 1, 1, 5, 3, 7, 5, 0, 1, 2, 4, 3, 6, 7, 8, 9, 0, 1, 3, 4, 5, 6, 7, 5, 0, 1, 3, 4, 7, 8, 9, 7, 5, 5, 1, 9, 7, 7, 1, 0, 0, 5, 9, 3, 1, 3, 2, 2, 3, 2, 8, 3, 2, 0, 0, 6, 1, 7, 5, 3, 2, 2, 9, 4, 3, 8, 3, 1, 0, 8, 7, 7, 5, 8, 5, 3, 4, 2, 1, 1, 5, 3, 0, 1, 2, 1, 6, 4, 1, 2, 4, 1, 5, 4, 2, 0, 4, 3, 2, 1, 7, 0, 0, 5, 6, 9, 3, 2, 3, 2, 0, 1, 2, 3, 1, 3, 4, 7, 2, 4, 0, 1, 2, 3, 1, 5, 6, 7, 5, 9, 0, 1, 2, 3, 5, 4, 7, 5, 1, 0, 7, 3, 7, 3, 1, 8, 6, 4, 0, 4, 1, 4, 3, 5, 4, 4, 1, 0, 1, 9, 2, 2, 3, 2, 2, 3, 9, 6, 0, 2, 3, 3, 3, 3, 3, 9, 6, 1, 1, 0, 4, 1, 0, 0, 6, 2, 1, 1, 3, 2, 7, 7, 2, 5, 7, 8, 4, 4, 0, 1, 0, 7, 0, 3, 6, 2, 7, 1, 3, 9, 9, 3, 7, 2, 0, 4, 4, 3, 6, 2, 2, 5, 3, 1, 5, 3, 9, 4, 1, 7, 2, 0, 1, 1, 3, 4, 5, 4, 1, 8, 9, 0, 1, 2, 3, 4, 5, 6, 7, 8, 9, 0, 1, 2, 3, 4, 5, 1, 7, 8, 4, 1, 0, 1, 2, 7, 5, 3, 4, 4, 0, 0, 4, 9, 4, 6, 5, 7, 2, 3, 4, 4, 7, 1, 4, 0, 7, 7, 5, 7, 2, 3, 1, 4, 4, 0, 9, 7, 6, 1, 8, 3, 3, 3, 3, 4, 8, 2, 4, 7, 3, 4, 1, 1, 4, 8, 7, 8, 8, 7, 1, 2, 3, 7, 3, 3, 5, 5, 0, 7, 4, 5, 4, 5, 1, 4, 1, 1, 2, 8, 2, 6, 1, 5, 0, 1, 1, 3, 4, 5, 6, 7, 2, 9, 0, 1, 1, 3, 4, 5, 4, 2, 8, 9, 0, 1, 2, 3, 4, 5, 5, 2, 8, 2, 0, 5, 0, 1, 1, 1, 7, 7, 4, 7, 1, 7, 1, 7, 1, 4, 0, 0, 1, 7, 5, 7, 1, 3, 3, 3, 1, 5, 4, 7, 1, 3, 0, 7, 6, 0, 2, 9, 4, 3, 5, 4, 3, 1, 5, 7, 0, 4, 3, 3, 8, 1, 4, 7, 5, 2, 0, 0, 1, 7, 8, 7, 6, 3, 3, 1, 3, 5, 1, 2, 7, 5, 1, 0, 1, 2, 3, 4, 5, 5, 7, 5, 7, 0, 1, 2, 3, 4, 3, 5, 1, 8, 4, 0, 1, 2, 3, 4, 5, 5, 7, 3, 9, 7, 1, 5, 1, 4, 0, 9, 9, 2, 7, 8, 2, 7, 5, 8, 5, 3, 2, 2, 0, 5, 5, 5, 0, 3, 8, 1, 0, 3, 0, 4, 7, 4, 7, 0, 9, 0, 7, 1, 7, 1, 5, 5, 5, 5, 0, 5, 7, 5, 4, 7, 9, 3, 3, 7, 4, 3, 0, 1, 5, 5, 1, 1, 3, 2, 1, 0, 0, 1, 2, 3, 4, 7, 8, 4, 0, 1, 2, 3, 4, 5, 5, 7, 8, 0, 1, 2, 3, 4, 7, 5, 9, 0, 8, 3, 9, 5, 3, 1, 6, 5, 4, 1, 7, 1, 2, 3, 5, 6, 9, 1, 1, 1, 2, 1, 2, 0, 7, 7, 5, 5, 2, 9, 8, 6, 7, 3, 4, 6, 5, 7, 0, 4, 2, 7, 7, 5, 4, 3, 4, 2, 5, 1, 5, 1, 0, 2, 3, 3, 1, 1, 0, 6, 8, 0, 3, 9, 7, 5, 2, 7, 7, 1, 0, 1, 7, 8, 9, 0, 1, 0, 3, 4, 5, 6, 7, 5, 0, 1, 2, 3, 4, 7, 8, 9, 7, 8, 6, 4, 1, 9, 3, 8, 4, 4, 7, 0, 1, 9, 2, 8, 7, 8, 2, 5, 0, 6, 5, 3, 3, 3, 9, 1, 4, 0, 6, 1, 0, 0, 1, 2, 1, 1, 7, 7, 3, 4, 6, 0, 7, 0, 3, 6, 3, 7, 1, 3, 2, 4, 9, 0, 3, 6, 4, 1, 7, 2, 6, 5, 0, 1, 2, 3, 4, 5, 5, 7, 8, 4, 0, 1, 1, 3, 4, 5, 5]\n"
          ]
        }
      ]
    },
    {
      "cell_type": "markdown",
      "source": [
        "Y_test --> true labels\n",
        "\n",
        "Y_pred_labels --> Predicted Labels"
      ],
      "metadata": {
        "id": "UNBrmsV7xpdy"
      }
    },
    {
      "cell_type": "code",
      "source": [
        "#confusion Matrix\n",
        "\n",
        "conf_mat = confusion_matrix(Y_test, Y_pred_labels)\n",
        "print(conf_mat)"
      ],
      "metadata": {
        "colab": {
          "base_uri": "https://localhost:8080/"
        },
        "id": "NyNd8jIIxlYn",
        "outputId": "b48f9fed-951b-477c-ec9e-f4e0b6ea62f8"
      },
      "execution_count": null,
      "outputs": [
        {
          "output_type": "stream",
          "name": "stdout",
          "text": [
            "tf.Tensor(\n",
            "[[ 973    1    0    1    0    1    1    0    2    1]\n",
            " [   0 1132    0    0    0    1    2    0    0    0]\n",
            " [  19  353  655    1    2    0    0    2    0    0]\n",
            " [   4   20   62  917    1    2    0    2    1    1]\n",
            " [  35   46    9    0  890    0    0    1    1    0]\n",
            " [   5    2    1  187    3  690    0    1    1    2]\n",
            " [  21   29   38    1  119  254  496    0    0    0]\n",
            " [   2   96  104   61    9    0    0  753    1    2]\n",
            " [   6    4  177  112   10  117   17    8  519    4]\n",
            " [  15   13    2   24  200    4    0  163    9  579]], shape=(10, 10), dtype=int32)\n"
          ]
        }
      ]
    },
    {
      "cell_type": "code",
      "source": [
        "plt.figure(figsize = (15,7))\n",
        "sns.heatmap(conf_mat,annot = True,fmt = 'd', cmap = 'Blues')\n",
        "plt.ylabel('True Labels')\n",
        "plt.xlabel('Predicted Labels')"
      ],
      "metadata": {
        "colab": {
          "base_uri": "https://localhost:8080/",
          "height": 656
        },
        "id": "sv8cTqLUzMub",
        "outputId": "95566201-c349-4842-fc1a-685b9cebc643"
      },
      "execution_count": null,
      "outputs": [
        {
          "output_type": "execute_result",
          "data": {
            "text/plain": [
              "Text(0.5, 47.7222222222222, 'Predicted Labels')"
            ]
          },
          "metadata": {},
          "execution_count": 22
        },
        {
          "output_type": "display_data",
          "data": {
            "text/plain": [
              "<Figure size 1500x700 with 2 Axes>"
            ],
            "image/png": "[encoded data removed]"
          },
          "metadata": {}
        }
      ]
    },
    {
      "cell_type": "markdown",
      "source": [
        "Building a Predictive system\n"
      ],
      "metadata": {
        "id": "E5Ki4yjKgpya"
      }
    },
    {
      "cell_type": "code",
      "source": [
        "input_img_path = '/content/MNIST_digit.png'\n",
        "\n",
        "input_image = cv2.imread(input_img_path)"
      ],
      "metadata": {
        "id": "0YQEVTy80Tja"
      },
      "execution_count": null,
      "outputs": []
    },
    {
      "cell_type": "code",
      "source": [
        "type(input_image)"
      ],
      "metadata": {
        "colab": {
          "base_uri": "https://localhost:8080/"
        },
        "id": "LJceb5rMhAYo",
        "outputId": "820103d2-2de8-4785-c0f7-c22d8f8e2def"
      },
      "execution_count": null,
      "outputs": [
        {
          "output_type": "execute_result",
          "data": {
            "text/plain": [
              "numpy.ndarray"
            ]
          },
          "metadata": {},
          "execution_count": 27
        }
      ]
    },
    {
      "cell_type": "code",
      "source": [
        "print(input_image)"
      ],
      "metadata": {
        "colab": {
          "base_uri": "https://localhost:8080/"
        },
        "id": "JLwOS15YhVOr",
        "outputId": "6a346e5a-f428-48aa-8dce-3752641d3a42"
      },
      "execution_count": null,
      "outputs": [
        {
          "output_type": "stream",
          "name": "stdout",
          "text": [
            "[[[0 0 0]\n",
            "  [0 0 0]\n",
            "  [0 0 0]\n",
            "  ...\n",
            "  [0 0 0]\n",
            "  [0 0 0]\n",
            "  [0 0 0]]\n",
            "\n",
            " [[0 0 0]\n",
            "  [0 0 0]\n",
            "  [0 0 0]\n",
            "  ...\n",
            "  [0 0 0]\n",
            "  [0 0 0]\n",
            "  [0 0 0]]\n",
            "\n",
            " [[0 0 0]\n",
            "  [0 0 0]\n",
            "  [0 0 0]\n",
            "  ...\n",
            "  [0 0 0]\n",
            "  [0 0 0]\n",
            "  [0 0 0]]\n",
            "\n",
            " ...\n",
            "\n",
            " [[0 0 0]\n",
            "  [0 0 0]\n",
            "  [0 0 0]\n",
            "  ...\n",
            "  [0 0 0]\n",
            "  [0 0 0]\n",
            "  [0 0 0]]\n",
            "\n",
            " [[0 0 0]\n",
            "  [0 0 0]\n",
            "  [0 0 0]\n",
            "  ...\n",
            "  [0 0 0]\n",
            "  [0 0 0]\n",
            "  [0 0 0]]\n",
            "\n",
            " [[0 0 0]\n",
            "  [0 0 0]\n",
            "  [0 0 0]\n",
            "  ...\n",
            "  [0 0 0]\n",
            "  [0 0 0]\n",
            "  [0 0 0]]]\n"
          ]
        }
      ]
    },
    {
      "cell_type": "code",
      "source": [
        "cv2_imshow(input_image)"
      ],
      "metadata": {
        "colab": {
          "base_uri": "https://localhost:8080/",
          "height": 335
        },
        "id": "Fb52LQs5nKir",
        "outputId": "b1d19e8b-9a6e-469e-91f8-296aa452ebc5"
      },
      "execution_count": null,
      "outputs": [
        {
          "output_type": "display_data",
          "data": {
            "text/plain": [
              "<PIL.Image.Image image mode=RGB size=318x318>"
            ],
            "image/png": "[encoded data removed]"
          },
          "metadata": {}
        }
      ]
    },
    {
      "cell_type": "code",
      "source": [
        "input_image.shape"
      ],
      "metadata": {
        "colab": {
          "base_uri": "https://localhost:8080/"
        },
        "id": "7BQCQqDNiehC",
        "outputId": "8048fa76-2932-409e-b73d-b7d3a35d4bcc"
      },
      "execution_count": null,
      "outputs": [
        {
          "output_type": "execute_result",
          "data": {
            "text/plain": [
              "(318, 318, 3)"
            ]
          },
          "metadata": {},
          "execution_count": 30
        }
      ]
    },
    {
      "cell_type": "code",
      "source": [
        "grayscale = cv2.cvtColor(input_image, cv2.COLOR_RGB2GRAY)"
      ],
      "metadata": {
        "id": "9yWz9RmVip6A"
      },
      "execution_count": null,
      "outputs": []
    },
    {
      "cell_type": "code",
      "source": [
        "grayscale.shape"
      ],
      "metadata": {
        "colab": {
          "base_uri": "https://localhost:8080/"
        },
        "id": "DWmPQrn7j_Tz",
        "outputId": "ea65ab2f-41ca-40d6-b3a9-5074173dd349"
      },
      "execution_count": null,
      "outputs": [
        {
          "output_type": "execute_result",
          "data": {
            "text/plain": [
              "(318, 318)"
            ]
          },
          "metadata": {},
          "execution_count": 32
        }
      ]
    },
    {
      "cell_type": "code",
      "source": [
        "input_image_resize = cv2.resize(grayscale, (28,28))"
      ],
      "metadata": {
        "id": "neLnD_X0kB-C"
      },
      "execution_count": null,
      "outputs": []
    },
    {
      "cell_type": "code",
      "source": [
        "input_image_resize.shape"
      ],
      "metadata": {
        "colab": {
          "base_uri": "https://localhost:8080/"
        },
        "id": "9zGsMkQhkG0_",
        "outputId": "5c670579-5f3f-424e-dd0e-5533c0c8dd09"
      },
      "execution_count": null,
      "outputs": [
        {
          "output_type": "execute_result",
          "data": {
            "text/plain": [
              "(28, 28)"
            ]
          },
          "metadata": {},
          "execution_count": 42
        }
      ]
    },
    {
      "cell_type": "code",
      "source": [
        "cv2_imshow(input_image_resize)"
      ],
      "metadata": {
        "colab": {
          "base_uri": "https://localhost:8080/",
          "height": 45
        },
        "id": "TYoartrGmtP8",
        "outputId": "1d5deccd-cd5d-4a55-b93d-1c96d4cd22a4"
      },
      "execution_count": null,
      "outputs": [
        {
          "output_type": "display_data",
          "data": {
            "text/plain": [
              "<PIL.Image.Image image mode=L size=28x28>"
            ],
            "image/png": "[encoded data removed]"
          },
          "metadata": {}
        }
      ]
    },
    {
      "cell_type": "code",
      "source": [
        "input_image_resize = input_image_resize/255"
      ],
      "metadata": {
        "id": "DHsgCTe7kVs6"
      },
      "execution_count": null,
      "outputs": []
    },
    {
      "cell_type": "code",
      "source": [
        "type(input_image_resize)"
      ],
      "metadata": {
        "colab": {
          "base_uri": "https://localhost:8080/"
        },
        "id": "wXAJ3ilCmGAp",
        "outputId": "fc2634ec-6813-4457-d6fa-9db299d98082"
      },
      "execution_count": null,
      "outputs": [
        {
          "output_type": "execute_result",
          "data": {
            "text/plain": [
              "numpy.ndarray"
            ]
          },
          "metadata": {},
          "execution_count": 36
        }
      ]
    },
    {
      "cell_type": "code",
      "source": [
        "image_reshaped = np.reshape(input_image_resize, [1,28,28])"
      ],
      "metadata": {
        "id": "uQhWi82QmIO2"
      },
      "execution_count": null,
      "outputs": []
    },
    {
      "cell_type": "code",
      "source": [
        "input_prediction = model.predict(image_reshaped)\n",
        "print(input_prediction)"
      ],
      "metadata": {
        "colab": {
          "base_uri": "https://localhost:8080/"
        },
        "id": "kE0cZCY0mP-o",
        "outputId": "e0a8723d-cd4c-47ad-ae4e-dad46c30d89b"
      },
      "execution_count": null,
      "outputs": [
        {
          "output_type": "stream",
          "name": "stdout",
          "text": [
            "1/1 [==============================] - 0s 89ms/step\n",
            "[[2.2842343e-11 7.5159282e-05 3.7716571e-05 1.0000000e+00 1.2741193e-13\n",
            "  3.8767424e-03 7.0979412e-22 5.0712915e-05 2.1012253e-03 3.4902516e-01]]\n"
          ]
        }
      ]
    },
    {
      "cell_type": "code",
      "source": [
        "input_pred_label = np.argmax(input_prediction)"
      ],
      "metadata": {
        "id": "nEIibxdfmVT5"
      },
      "execution_count": null,
      "outputs": []
    },
    {
      "cell_type": "code",
      "source": [
        "input_pred_label"
      ],
      "metadata": {
        "colab": {
          "base_uri": "https://localhost:8080/"
        },
        "id": "feOGFKhmma7o",
        "outputId": "8ac59709-f3eb-4fe4-b666-d0aeb6592525"
      },
      "execution_count": null,
      "outputs": [
        {
          "output_type": "execute_result",
          "data": {
            "text/plain": [
              "3"
            ]
          },
          "metadata": {},
          "execution_count": 40
        }
      ]
    },
    {
      "cell_type": "markdown",
      "source": [
        "Predictive System"
      ],
      "metadata": {
        "id": "tsgwkndQsH1x"
      }
    },
    {
      "cell_type": "code",
      "source": [
        "input_image_path = input('Path of the image to be predicted: ')\n",
        "\n",
        "input_image = cv2.imread(input_image_path)\n",
        "\n",
        "cv2_imshow(input_image)\n",
        "\n",
        "grayscale = cv2.cvtColor(input_image, cv2.COLOR_RGB2GRAY)\n",
        "\n",
        "input_image_resize = cv2.resize(grayscale, (28,28))\n",
        "\n",
        "input_image_resize = input_image_resize/255\n",
        "\n",
        "image_reshaped = np.reshape(input_image_resize, [1,28,28])\n",
        "\n",
        "input_prediction = model.predict(image_reshaped)\n",
        "\n",
        "input_pred_label = np.argmax(input_prediction)\n",
        "\n",
        "print('The Handwritten Digit is recognised as ', input_pred_label)\n"
      ],
      "metadata": {
        "colab": {
          "base_uri": "https://localhost:8080/",
          "height": 387
        },
        "id": "voASyQJZmdSH",
        "outputId": "c778385b-7971-4b2f-9c32-ba60fa1da72c"
      },
      "execution_count": null,
      "outputs": [
        {
          "name": "stdout",
          "output_type": "stream",
          "text": [
            "Path of the image to be predicted: /content/MNIST_digit.png\n"
          ]
        },
        {
          "output_type": "display_data",
          "data": {
            "text/plain": [
              "<PIL.Image.Image image mode=RGB size=318x318>"
            ],
            "image/png": "[encoded data removed]"
          },
          "metadata": {}
        },
        {
          "output_type": "stream",
          "name": "stdout",
          "text": [
            "1/1 [==============================] - 0s 37ms/step\n",
            "The Handwritten Digit is recognised as  3\n"
          ]
        }
      ]
    },
    {
      "cell_type": "code",
      "source": [],
      "metadata": {
        "id": "Lg6PPb4GseKs"
      },
      "execution_count": null,
      "outputs": []
    }
  ]
}